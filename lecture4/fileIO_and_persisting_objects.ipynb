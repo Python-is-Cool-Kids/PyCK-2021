{
 "cells": [
  {
   "cell_type": "markdown",
   "metadata": {
    "slideshow": {
     "slide_type": "slide"
    }
   },
   "source": [
    "## File I/O"
   ]
  },
  {
   "cell_type": "markdown",
   "metadata": {
    "slideshow": {
     "slide_type": "slide"
    }
   },
   "source": [
    "### Reading from a file\n",
    "\n",
    "For convenience, we will call our file *pi.txt* and it will contain the digits of pi written in different lines."
   ]
  },
  {
   "cell_type": "markdown",
   "metadata": {
    "slideshow": {
     "slide_type": "fragment"
    }
   },
   "source": [
    "To read the entire file, we can do this:"
   ]
  },
  {
   "cell_type": "code",
   "execution_count": 1,
   "metadata": {
    "slideshow": {
     "slide_type": "fragment"
    }
   },
   "outputs": [
    {
     "name": "stdout",
     "output_type": "stream",
     "text": [
      "3.14159265358979323846264338327950288419716939937510582097494\n",
      "4592307816406286208998628034825342117067982148086513282306647\n",
      "0938446095505822317253594081284811174502841027019385211055596\n",
      "4462294895493038196442881097566593344612847564823378678316527\n",
      "1201909145648566923460348610454326648213393607260249141273724\n",
      "5870066063155881748815209209628292540917153643678925903600113\n",
      "3053054882046652138414695194151160943305727036575959195309218\n",
      "6117381932611793105118548074462379962749567351885752724891227\n",
      "9381830119491298336733624406566430860213949463952247371907021\n",
      "7986094370277053921717629317675238467481846766940513200056812\n",
      "7145263560827785771342757789609173637178721468440901224953430\n",
      "1465495853710507922796892589235420199561121290219608640344181\n",
      "5981362977477130996051870721134999999837297804995105973173281\n",
      "6096318595024459455346908302642522308253344685035261931188171\n",
      "0100031378387528865875332083814206171776691473035982534904287\n",
      "5546873115956286388235378759375195778185778053217122680661300\n",
      "1927876611195909216420198938095257201065485863278865936153381\n",
      "8279682303019520353018529689957736225994138912497217752834791\n",
      "3151557485724245415069595082953311686172785588907509838175463\n",
      "7464939319255060400927701671139009848824012858361603563707660\n",
      "1047101819429555961989467678374494482553797747268471040475346\n",
      "4620804668425906949129331367702898915210475216205696602405803\n",
      "8150193511253382430035587640247496473263914199272604269922796\n"
     ]
    }
   ],
   "source": [
    "with open('pi.txt') as f: # Opens our file and we can refer to it using f\n",
    "    contents = f.read() # Read everything in the file as a string using the read method\n",
    "print(contents)"
   ]
  },
  {
   "cell_type": "markdown",
   "metadata": {
    "slideshow": {
     "slide_type": "slide"
    }
   },
   "source": [
    "The `open()` function needs one argument: the name of the file you want to open and returns an object representing the file. Python looks for this file in the directory where the program that’s currently being executed is stored.\n",
    "\n",
    "The keyword `with` closes the file once access to it is no longer needed. We can explicitly open and close files as follows (though it is not usually done and the `with` method is used)."
   ]
  },
  {
   "cell_type": "code",
   "execution_count": 2,
   "metadata": {},
   "outputs": [],
   "source": [
    "f = open('pi.txt')\n",
    "# Do stuff on f\n",
    "f.close()"
   ]
  },
  {
   "cell_type": "markdown",
   "metadata": {
    "slideshow": {
     "slide_type": "slide"
    }
   },
   "source": [
    "It is not necessary that the text file is in the same directory, you can also provide absolute or relative *file paths*. For example"
   ]
  },
  {
   "cell_type": "code",
   "execution_count": 3,
   "metadata": {},
   "outputs": [
    {
     "name": "stdout",
     "output_type": "stream",
     "text": [
      "3.14159265358979323846264338327950288419716939937510582097494\n",
      "4592307816406286208998628034825342117067982148086513282306647\n",
      "0938446095505822317253594081284811174502841027019385211055596\n",
      "4462294895493038196442881097566593344612847564823378678316527\n",
      "1201909145648566923460348610454326648213393607260249141273724\n",
      "5870066063155881748815209209628292540917153643678925903600113\n",
      "3053054882046652138414695194151160943305727036575959195309218\n",
      "6117381932611793105118548074462379962749567351885752724891227\n",
      "9381830119491298336733624406566430860213949463952247371907021\n",
      "7986094370277053921717629317675238467481846766940513200056812\n",
      "7145263560827785771342757789609173637178721468440901224953430\n",
      "1465495853710507922796892589235420199561121290219608640344181\n",
      "5981362977477130996051870721134999999837297804995105973173281\n",
      "6096318595024459455346908302642522308253344685035261931188171\n",
      "0100031378387528865875332083814206171776691473035982534904287\n",
      "5546873115956286388235378759375195778185778053217122680661300\n",
      "1927876611195909216420198938095257201065485863278865936153381\n",
      "8279682303019520353018529689957736225994138912497217752834791\n",
      "3151557485724245415069595082953311686172785588907509838175463\n",
      "7464939319255060400927701671139009848824012858361603563707660\n",
      "1047101819429555961989467678374494482553797747268471040475346\n",
      "4620804668425906949129331367702898915210475216205696602405803\n",
      "8150193511253382430035587640247496473263914199272604269922796\n"
     ]
    }
   ],
   "source": [
    "path = r\"C:\\Users\\shubh\\Desktop\\PyCk\\Lecture 4\\pi.txt\"\n",
    "with open(path) as f:\n",
    "    print(f.read())"
   ]
  },
  {
   "cell_type": "markdown",
   "metadata": {
    "slideshow": {
     "slide_type": "slide"
    }
   },
   "source": [
    "It is often needed to read each line for a file, this can be done using a for loop"
   ]
  },
  {
   "cell_type": "code",
   "execution_count": 4,
   "metadata": {
    "slideshow": {
     "slide_type": "fragment"
    }
   },
   "outputs": [
    {
     "name": "stdout",
     "output_type": "stream",
     "text": [
      "3.14159265358979323846264338327950288419716939937510582097494\n",
      "4592307816406286208998628034825342117067982148086513282306647\n",
      "0938446095505822317253594081284811174502841027019385211055596\n",
      "4462294895493038196442881097566593344612847564823378678316527\n",
      "1201909145648566923460348610454326648213393607260249141273724\n",
      "5870066063155881748815209209628292540917153643678925903600113\n",
      "3053054882046652138414695194151160943305727036575959195309218\n",
      "6117381932611793105118548074462379962749567351885752724891227\n",
      "9381830119491298336733624406566430860213949463952247371907021\n",
      "7986094370277053921717629317675238467481846766940513200056812\n",
      "7145263560827785771342757789609173637178721468440901224953430\n",
      "1465495853710507922796892589235420199561121290219608640344181\n",
      "5981362977477130996051870721134999999837297804995105973173281\n",
      "6096318595024459455346908302642522308253344685035261931188171\n",
      "0100031378387528865875332083814206171776691473035982534904287\n",
      "5546873115956286388235378759375195778185778053217122680661300\n",
      "1927876611195909216420198938095257201065485863278865936153381\n",
      "8279682303019520353018529689957736225994138912497217752834791\n",
      "3151557485724245415069595082953311686172785588907509838175463\n",
      "7464939319255060400927701671139009848824012858361603563707660\n",
      "1047101819429555961989467678374494482553797747268471040475346\n",
      "4620804668425906949129331367702898915210475216205696602405803\n",
      "8150193511253382430035587640247496473263914199272604269922796\n"
     ]
    }
   ],
   "source": [
    "\"\"\"\n",
    "You'll notice that we get an extra blank line after each line. This is because each line \n",
    "in the file ends with a \\n character, and print adds its own \\n, so to avoid this, as\n",
    "said before, add rstrip(), or use the end=\"\" keyword arg\n",
    "\"\"\"\n",
    "with open('pi.txt') as f: # Open the file\n",
    "    for line in f: # Loop over all the lines\n",
    "        print(line.rstrip()) # or\n",
    "        # print(line, end=\"\")"
   ]
  },
  {
   "cell_type": "markdown",
   "metadata": {
    "slideshow": {
     "slide_type": "slide"
    }
   },
   "source": [
    "To store the lines as a list, we can use the readlines() method"
   ]
  },
  {
   "cell_type": "code",
   "execution_count": 5,
   "metadata": {
    "slideshow": {
     "slide_type": "fragment"
    }
   },
   "outputs": [
    {
     "data": {
      "text/plain": [
       "['3.14159265358979323846264338327950288419716939937510582097494\\n',\n",
       " '4592307816406286208998628034825342117067982148086513282306647\\n',\n",
       " '0938446095505822317253594081284811174502841027019385211055596\\n']"
      ]
     },
     "execution_count": 5,
     "metadata": {},
     "output_type": "execute_result"
    }
   ],
   "source": [
    "with open('pi.txt') as f:\n",
    "    lines = f.readlines()\n",
    "lines[:3]"
   ]
  },
  {
   "cell_type": "code",
   "execution_count": 6,
   "metadata": {},
   "outputs": [
    {
     "data": {
      "text/plain": [
       "['3.14159265358979323846264338327950288419716939937510582097494',\n",
       " '4592307816406286208998628034825342117067982148086513282306647',\n",
       " '0938446095505822317253594081284811174502841027019385211055596']"
      ]
     },
     "execution_count": 6,
     "metadata": {},
     "output_type": "execute_result"
    }
   ],
   "source": [
    "# Alternate, Ditch the \\n character\n",
    "with open('pi.txt') as f:\n",
    "    lines = f.read().split(\"\\n\")\n",
    "lines[:3]"
   ]
  },
  {
   "cell_type": "markdown",
   "metadata": {
    "slideshow": {
     "slide_type": "slide"
    }
   },
   "source": [
    "To store all the digits of π (at least in the file) together, we can append it to a variable. Consider the lines variable above, we can just do"
   ]
  },
  {
   "cell_type": "code",
   "execution_count": 7,
   "metadata": {},
   "outputs": [
    {
     "data": {
      "text/plain": [
       "'3.141592653589793238462643383279502884197169399375105820974944592307816406286208998628034825342117067982148086513282306647093844609550582231725359408128481117450284102701938521105559644622948954930381964428810975665933446128475648233786783165271201909145648566923460348610454326648213393607260249141273724587006606315588174881520920962829254091715364367892590360011330530548820466521384146951941511609433057270365759591953092186117381932611793105118548074462379962749567351885752724891227938183011949129833673362440656643086021394946395224737190702179860943702770539217176293176752384674818467669405132000568127145263560827785771342757789609173637178721468440901224953430146549585371050792279689258923542019956112129021960864034418159813629774771309960518707211349999998372978049951059731732816096318595024459455346908302642522308253344685035261931188171010003137838752886587533208381420617177669147303598253490428755468731159562863882353787593751957781857780532171226806613001927876611195909216420198938095257201065485863278865936153381827968230301952035301852968995773622599413891249721775283479131515574857242454150695950829533116861727855889075098381754637464939319255060400927701671139009848824012858361603563707660104710181942955596198946767837449448255379774726847104047534646208046684259069491293313677028989152104752162056966024058038150193511253382430035587640247496473263914199272604269922796'"
      ]
     },
     "execution_count": 7,
     "metadata": {},
     "output_type": "execute_result"
    }
   ],
   "source": [
    "pi_string = \"\"\n",
    "for line in lines:\n",
    "    pi_string += line.strip() \n",
    "    \n",
    "pi_string"
   ]
  },
  {
   "cell_type": "markdown",
   "metadata": {
    "slideshow": {
     "slide_type": "slide"
    }
   },
   "source": [
    "### Writing to an Empty File\n",
    "\n",
    "To write text to a file, you need to call `open()` with a second argument telling\n",
    "Python that you want to write to the file."
   ]
  },
  {
   "cell_type": "code",
   "execution_count": 8,
   "metadata": {
    "slideshow": {
     "slide_type": "fragment"
    }
   },
   "outputs": [],
   "source": [
    "with open('my_file.txt', 'w') as f: \n",
    "    f.write('Hello World\\n')\n",
    "    f.write('Good Night\\n')"
   ]
  },
  {
   "cell_type": "code",
   "execution_count": 9,
   "metadata": {},
   "outputs": [],
   "source": [
    "# with open('my_file.txt', 'w') as f: \n",
    "#     f.write('Adding another line\\n')\n",
    "# # This is overwrite our file and previous data will be lost"
   ]
  },
  {
   "cell_type": "markdown",
   "metadata": {
    "slideshow": {
     "slide_type": "fragment"
    }
   },
   "source": [
    "Note that we can optionally use 'r' to open the file in read-mode, but that's the default so it can omit it if we only want to read from the file."
   ]
  },
  {
   "cell_type": "markdown",
   "metadata": {
    "slideshow": {
     "slide_type": "slide"
    }
   },
   "source": [
    "### Appending to a File\n",
    "\n",
    "We can use the `'a'` value of the second argument to open the file in append mode, where Python doesn’t erase the contents of the file before returning the file object. If the file doesn’t exist yet, Python will create an empty file for you."
   ]
  },
  {
   "cell_type": "code",
   "execution_count": 10,
   "metadata": {
    "slideshow": {
     "slide_type": "fragment"
    }
   },
   "outputs": [],
   "source": [
    "with open('my_file.txt', 'a') as f:\n",
    "    f.write('Oh I did not overwrite the file!\\n')"
   ]
  },
  {
   "cell_type": "markdown",
   "metadata": {
    "slideshow": {
     "slide_type": "slide"
    }
   },
   "source": [
    "## The Python `pickle` Module: Persisting Objects in Python\n",
    "\n",
    "You may sometimes need to share or transfer complex object hierarchies out of your session or save the internal state of your objects to a disk or database for later use. \n",
    "\n",
    "To accomplish this, you can use a process called **serialization**, which is fully supported by the python standard library thanks to the `pickle` module"
   ]
  },
  {
   "cell_type": "markdown",
   "metadata": {
    "slideshow": {
     "slide_type": "slide"
    }
   },
   "source": [
    "### Serialization in Python\n",
    "\n",
    "The **serialization** process is a way to convert a data structure into a linear form that can be stored or transmitted over a network.\n",
    "\n",
    "In Python, serialization allows you to take a complex object structure and transform it into a stream of bytes that can be saved to a disk or sent over a network."
   ]
  },
  {
   "cell_type": "markdown",
   "metadata": {
    "slideshow": {
     "slide_type": "slide"
    }
   },
   "source": [
    "Example class whose objects we'll learn to pickle:"
   ]
  },
  {
   "cell_type": "code",
   "execution_count": 11,
   "metadata": {
    "slideshow": {
     "slide_type": "fragment"
    }
   },
   "outputs": [],
   "source": [
    "class example_class:\n",
    "    a_number = 35\n",
    "    a_string = \"hey\"\n",
    "    a_list = [1, 2, 3]\n",
    "    a_dict = {\"first\": \"a\", \"second\": 2, \"third\": [1, 2, 3]}\n",
    "    a_tuple = (22, 23)\n",
    "\n",
    "my_object = example_class()"
   ]
  },
  {
   "cell_type": "markdown",
   "metadata": {
    "slideshow": {
     "slide_type": "fragment"
    }
   },
   "source": [
    "Importing the module:"
   ]
  },
  {
   "cell_type": "code",
   "execution_count": 12,
   "metadata": {
    "slideshow": {
     "slide_type": "fragment"
    }
   },
   "outputs": [],
   "source": [
    "import pickle"
   ]
  },
  {
   "cell_type": "markdown",
   "metadata": {
    "slideshow": {
     "slide_type": "slide"
    }
   },
   "source": [
    "# Methods inside the Python `pickle` module:"
   ]
  },
  {
   "cell_type": "markdown",
   "metadata": {
    "slideshow": {
     "slide_type": "slide"
    }
   },
   "source": [
    "### `pickle.dumps()` and `pickle.loads()`\n",
    "\n",
    "These functions pickle an object to or load an object from a **string**. \n",
    "\n",
    "Let's see how this works:"
   ]
  },
  {
   "cell_type": "code",
   "execution_count": 13,
   "metadata": {
    "slideshow": {
     "slide_type": "fragment"
    }
   },
   "outputs": [
    {
     "name": "stdout",
     "output_type": "stream",
     "text": [
      "This is my pickled object:\n",
      "b'\\x80\\x03c__main__\\nexample_class\\nq\\x00)\\x81q\\x01.'\n",
      "\n"
     ]
    }
   ],
   "source": [
    "my_pickled_object = pickle.dumps(my_object)  # Pickling the object\n",
    "print(f\"This is my pickled object:\\n{my_pickled_object}\\n\")"
   ]
  },
  {
   "cell_type": "code",
   "execution_count": 14,
   "metadata": {
    "slideshow": {
     "slide_type": "fragment"
    }
   },
   "outputs": [
    {
     "name": "stdout",
     "output_type": "stream",
     "text": [
      "This is a_dict of the unpickled object:\n",
      "{'first': 'a', 'second': 2, 'third': [1, 2, 3]}\n",
      "\n",
      "This is a_list of the unpickled object:\n",
      "[1, 2, 3]\n",
      "\n"
     ]
    }
   ],
   "source": [
    "my_unpickled_object = pickle.loads(my_pickled_object)  # Unpickling the object\n",
    "print(f\"This is a_dict of the unpickled object:\\n{my_unpickled_object.a_dict}\\n\")\n",
    "print(f\"This is a_list of the unpickled object:\\n{my_unpickled_object.a_list}\\n\")"
   ]
  },
  {
   "cell_type": "markdown",
   "metadata": {
    "slideshow": {
     "slide_type": "slide"
    }
   },
   "source": [
    "### `pickle.dump()` and `pickle.load()`\n",
    "\n",
    "These functions pickle an object to or load an object from a **file object**.\\\n",
    "\n",
    "Let's see how this works:"
   ]
  },
  {
   "cell_type": "code",
   "execution_count": 15,
   "metadata": {
    "slideshow": {
     "slide_type": "fragment"
    }
   },
   "outputs": [],
   "source": [
    "with open('my_pickled_object', 'wb') as f:\n",
    "    pickle.dump(my_object, f) # Pickling the object"
   ]
  },
  {
   "cell_type": "code",
   "execution_count": 16,
   "metadata": {
    "slideshow": {
     "slide_type": "fragment"
    }
   },
   "outputs": [
    {
     "name": "stdout",
     "output_type": "stream",
     "text": [
      "This is a_dict of the unpickled object:\n",
      "{'first': 'a', 'second': 2, 'third': [1, 2, 3]}\n",
      "\n",
      "This is a_list of the unpickled object:\n",
      "[1, 2, 3]\n",
      "\n"
     ]
    }
   ],
   "source": [
    "with open('my_pickled_object', 'rb') as f:\n",
    "    my_unpickled_object = pickle.load(f) # Unpickling the object\n",
    "\n",
    "print(f\"This is a_dict of the unpickled object:\\n{my_unpickled_object.a_dict}\\n\")\n",
    "print(f\"This is a_list of the unpickled object:\\n{my_unpickled_object.a_list}\\n\")"
   ]
  },
  {
   "cell_type": "markdown",
   "metadata": {
    "slideshow": {
     "slide_type": "slide"
    }
   },
   "source": [
    "Most object types can be pickled but not all. Read more about pickling objects [here](https://realpython.com/python-pickle-module/)."
   ]
  },
  {
   "cell_type": "markdown",
   "metadata": {
    "slideshow": {
     "slide_type": "slide"
    }
   },
   "source": [
    "## The Python `json` Module\n",
    "\n",
    "Since its inception, JSON has quickly become the de facto standard for information exchange. \n",
    "\n",
    "Read more about JSON and how it works [here](https://www.json.org/json-en.html)."
   ]
  },
  {
   "cell_type": "markdown",
   "metadata": {
    "slideshow": {
     "slide_type": "slide"
    }
   },
   "source": [
    "### Differences between `json` and `pickle` serialization:\n",
    "\n",
    "- Most of the pickle module is written in C language and is specific to python only. JSON is derived from JavaScript, but it is not limited to JavaScript only (as the name suggests)\n",
    "- Pickle supports binary serialization format, whereas JSON is for simple text serialization format.\n",
    "- JSON is useful for common tasks and is limited to certain types of data. \n",
    "Thus, JSON cannot serialize and de-serialize every python object. \n",
    "But, pickle can serialize any arbitrary Python object like lists, tuples, and dictionaries. Even classes and methods can be serialized with pickle.\n",
    "- Pickle's serialization process is faster than JSON"
   ]
  },
  {
   "cell_type": "markdown",
   "metadata": {
    "slideshow": {
     "slide_type": "slide"
    }
   },
   "source": [
    "Example dictionary object we will learn to json serialize:"
   ]
  },
  {
   "cell_type": "code",
   "execution_count": 17,
   "metadata": {
    "slideshow": {
     "slide_type": "fragment"
    }
   },
   "outputs": [],
   "source": [
    "data = {\n",
    "    \"user1\": {\n",
    "        \"name\": \"Shubham Lohiya\",\n",
    "        \"age\": 21,\n",
    "        \"Place\": \"Mumbai\",\n",
    "        \"Interests\": ['Star Wars', 'Food', 'Tech']\n",
    "    },\n",
    "    \"user2\": {\n",
    "        \"name\": \"Eeshaan Jain\",\n",
    "        \"age\": 19,\n",
    "        \"Place\": \"Pune\",\n",
    "        \"Interests\": [\"Cubing\", \"Piano\", \"Machine Learning\"]\n",
    "    }\n",
    "}"
   ]
  },
  {
   "cell_type": "markdown",
   "metadata": {
    "slideshow": {
     "slide_type": "fragment"
    }
   },
   "source": [
    "Importing the module:"
   ]
  },
  {
   "cell_type": "code",
   "execution_count": 18,
   "metadata": {
    "slideshow": {
     "slide_type": "fragment"
    }
   },
   "outputs": [],
   "source": [
    "import json"
   ]
  },
  {
   "cell_type": "markdown",
   "metadata": {
    "slideshow": {
     "slide_type": "slide"
    }
   },
   "source": [
    "# Methods inside the json module:"
   ]
  },
  {
   "cell_type": "markdown",
   "metadata": {
    "slideshow": {
     "slide_type": "slide"
    }
   },
   "source": [
    "### `json.dumps()` and `json.loads()`\n",
    "\n",
    "These functions json serialize an object to or load an object from a **string**.\n",
    "\n",
    "Let's see how this works:"
   ]
  },
  {
   "cell_type": "code",
   "execution_count": 19,
   "metadata": {
    "slideshow": {
     "slide_type": "fragment"
    }
   },
   "outputs": [
    {
     "name": "stdout",
     "output_type": "stream",
     "text": [
      "{\"user1\": {\"name\": \"Shubham Lohiya\", \"age\": 21, \"Place\": \"Mumbai\", \"Interests\": [\"Star Wars\", \"Food\", \"Tech\"]}, \"user2\": {\"name\": \"Eeshaan Jain\", \"age\": 19, \"Place\": \"Pune\", \"Interests\": [\"Cubing\", \"Piano\", \"Machine Learning\"]}}\n"
     ]
    }
   ],
   "source": [
    "encoded_data = json.dumps(data)\n",
    "print(encoded_data)"
   ]
  },
  {
   "cell_type": "code",
   "execution_count": 20,
   "metadata": {
    "slideshow": {
     "slide_type": "fragment"
    }
   },
   "outputs": [
    {
     "name": "stdout",
     "output_type": "stream",
     "text": [
      "Shubham Lohiya\n"
     ]
    }
   ],
   "source": [
    "decoded_data = json.loads(encoded_data)\n",
    "print(decoded_data[\"user1\"][\"name\"])"
   ]
  },
  {
   "cell_type": "markdown",
   "metadata": {
    "slideshow": {
     "slide_type": "slide"
    }
   },
   "source": [
    "### `json.dump()` and `json.load()`\n",
    "\n",
    "These functions json serialize an object to or load an object from a **file object**.\n",
    "\n",
    "Let's see how this works:"
   ]
  },
  {
   "cell_type": "code",
   "execution_count": 21,
   "metadata": {
    "slideshow": {
     "slide_type": "fragment"
    }
   },
   "outputs": [],
   "source": [
    "with open('encoded_data.json', 'w') as f:\n",
    "    json.dump(data, f) # Encoding the object"
   ]
  },
  {
   "cell_type": "code",
   "execution_count": 22,
   "metadata": {
    "slideshow": {
     "slide_type": "fragment"
    }
   },
   "outputs": [
    {
     "name": "stdout",
     "output_type": "stream",
     "text": [
      "Shubham Lohiya\n"
     ]
    }
   ],
   "source": [
    "with open('encoded_data.json', 'r') as f:\n",
    "    decoded_data = json.load(f) # Decoding the object\n",
    "    \n",
    "print(decoded_data[\"user1\"][\"name\"])"
   ]
  }
 ],
 "metadata": {
  "kernelspec": {
   "display_name": "Python 3",
   "language": "python",
   "name": "python3"
  },
  "language_info": {
   "codemirror_mode": {
    "name": "ipython",
    "version": 3
   },
   "file_extension": ".py",
   "mimetype": "text/x-python",
   "name": "python",
   "nbconvert_exporter": "python",
   "pygments_lexer": "ipython3",
   "version": "3.7.6"
  }
 },
 "nbformat": 4,
 "nbformat_minor": 4
}
