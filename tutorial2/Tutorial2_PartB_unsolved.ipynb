{
 "cells": [
  {
   "cell_type": "markdown",
   "metadata": {},
   "source": [
    "# Tutorial 2: Part B\n",
    "## Blackjack\n",
    "\n",
    "### Authors: Tejal Barnwal, Harshit Gupta, Vedant Prakash Shenoy"
   ]
  },
  {
   "cell_type": "markdown",
   "metadata": {
    "id": "F7W922C5x1LA"
   },
   "source": [
    "Blackjack is a comparing card game between a player and a dealer. It is played with one or more decks of 52 cards and is one of the most popular casino games.\n",
    "\n",
    "The goal here is to make a simulator for the blackjack game where the computer will act as a dealer and you(or the user) will be the player."
   ]
  },
  {
   "cell_type": "markdown",
   "metadata": {
    "id": "F7W922C5x1LA"
   },
   "source": [
    "#### Gameplay \n",
    "\n",
    "Blackjack is based on a scoring system where each card has a value, and the goal is to beat the score of the dealer's hand without going over 21.\n",
    "\n",
    "The value of each card is as follows:\n",
    "   - Number cards (2-10): Their face value (2 has a value of 2, and so on)\n",
    "   - Face Cards(J, Q, K): 10\n",
    "   - Ace: 1 (hard) or 11 (soft) depending on whichever makes a better hand\n",
    "   - Suit is irrelevant.\n",
    "\n",
    "As an example, consider the hand: `2 K A`: If the Ace is given a value of 11, then the total score is 23, which is greater than 21, so it is assigned a value of 1 which gives a score of 13."
   ]
  },
  {
   "cell_type": "markdown",
   "metadata": {
    "id": "F7W922C5x1LA"
   },
   "source": [
    "## Simplified Gameplay\n",
    "Here, we describe the simplified gameplay that we will guide you in building in this tutorial.\n",
    "\n",
    "\n",
    "Each player is dealt two cards. One of the dealers cards is hidden from the player. So a possible scenario is \n",
    "\n",
    "                                            Dealer: 9 ?(7)\n",
    "                                            Player: 5 4\n",
    "\n",
    "\n",
    "\n",
    "The player has the following options:<br>\n",
    "***Hit***: ask for another card.<br>\n",
    "***Stand***: hold your total and end your turn.\n",
    "\n",
    "If at any point, the player exceeds 21, then the player loses. After the player ends their turn, the dealer reveals the hidden card. The dealer then hits until the hand \n",
    "\n",
    "The dealer will hit unless his/her cards total 17 or higher after which he must stand.\n",
    "\n",
    "The outcome of the hands is as follows:\n",
    "  - If the player goes over 21 you bust ( i.e. you lose), and the dealer wins regardless of the dealer's hand.\n",
    "  - If you are dealt 21 from the start (Ace & 10), you got a 'blackjack'.\n",
    "      - If both the player and the dealer receive a 'blackjack', no one wins\n",
    "  - If Dealer exceeds 21 and the player does not, the player wins\n",
    "  - If the player attains a final sum higher than the dealer and does not bust, the player wins."
   ]
  },
  {
   "cell_type": "markdown",
   "metadata": {},
   "source": [
    "For the complete set of rules, have a look this YouTube video."
   ]
  },
  {
   "cell_type": "code",
   "execution_count": 1,
   "metadata": {
    "colab": {
     "base_uri": "https://localhost:8080/",
     "height": 321
    },
    "id": "3tmQBzQvyVqy",
    "outputId": "134ef302-e0b2-46da-d726-4c7029cbf7aa",
    "scrolled": true
   },
   "outputs": [
    {
     "data": {
      "image/jpeg": "[encoded data removed]",
      "text/html": [
       "\n",
       "        <iframe\n",
       "            width=\"400\"\n",
       "            height=\"300\"\n",
       "            src=\"https://www.youtube.com/embed/VB-6MvXvsKo\"\n",
       "            frameborder=\"0\"\n",
       "            allowfullscreen\n",
       "        ></iframe>\n",
       "        "
      ],
      "text/plain": [
       "<IPython.lib.display.YouTubeVideo at 0x153ed88442e0>"
      ]
     },
     "execution_count": 1,
     "metadata": {},
     "output_type": "execute_result"
    }
   ],
   "source": [
    "from IPython.display import YouTubeVideo\n",
    "YouTubeVideo('VB-6MvXvsKo')"
   ]
  },
  {
   "cell_type": "markdown",
   "metadata": {},
   "source": [
    "---\n",
    "Let us implement this game by first making a minimal version of blackjack and then adding features (similar to `Fraction` in Part A of this tutorial)"
   ]
  },
  {
   "cell_type": "markdown",
   "metadata": {},
   "source": [
    "First, we define the cards. For now, we will not consider suits (since they are irrelevant to the game anyways). Create Python objects (*you decide which kind*) to store the ranks (2-10, J, Q, K, A) and their values."
   ]
  },
  {
   "cell_type": "code",
   "execution_count": 2,
   "metadata": {},
   "outputs": [],
   "source": [
    "# When you feel like you need any library, add the imports at the top\n",
    "\n",
    "\n",
    "# Create global variables for cards, scores of each card. Ignore the suits for now"
   ]
  },
  {
   "cell_type": "markdown",
   "metadata": {},
   "source": [
    "---\n",
    "Now, create a shuffled deck of cards. Remember that each deck has cards of 4 suits (52 cards in total)"
   ]
  },
  {
   "cell_type": "code",
   "execution_count": 3,
   "metadata": {},
   "outputs": [],
   "source": [
    "# Shuffled deck of cards that we will use"
   ]
  },
  {
   "cell_type": "markdown",
   "metadata": {},
   "source": [
    "---\n",
    "Next up, write a function that will accept a list of cards (a `hand`) and return the value of the hand. Remember that aces can have two values!"
   ]
  },
  {
   "cell_type": "code",
   "execution_count": 4,
   "metadata": {},
   "outputs": [],
   "source": [
    "def calc_score(hand):\n",
    "    \"\"\"Return the score of a hand\n",
    "    \n",
    "    Aces can take value 11 or 1.\n",
    "    Numbered cards take the value of their numbers\n",
    "    Face cards are all valued 10\n",
    "    \"\"\"\n",
    "    pass"
   ]
  },
  {
   "cell_type": "markdown",
   "metadata": {},
   "source": [
    "---\n",
    "Now we are ready to get started on the actual gameplay.\n",
    "\n",
    "Deal cards to the player and the dealer. Print out the first card dealt to the dealer and the two cards dealt to the player.\n",
    "\n",
    "For now, simply compare the values of the hands dealt to both parties and decide the winner (which is a boring game, but a game nonetheless)"
   ]
  },
  {
   "cell_type": "code",
   "execution_count": 5,
   "metadata": {},
   "outputs": [],
   "source": [
    "# Deal 2 cards each to the dealer and the player\n",
    "\n",
    "# Whoever has the hand with a larger score wins"
   ]
  },
  {
   "cell_type": "markdown",
   "metadata": {},
   "source": [
    "---\n",
    "By now you have a completely working game. It's not exactly Blackjack, but it's close! (somewhat).\n",
    "\n",
    "Let's spice things up a bit now: Ask the player if they want to hit or stand (ignore all the other possible options for now), and print the hand that the player has. If they bust, then GAME OVER! If they don't they get to choose again. Repeat this until either the player busts or they decide they have a good enough hand to continue.\n",
    "\n",
    "To summarize, we now have a game where the dealer is dealt two cards, one hidden from the player. The player is dealt two cards and asked if they want to hit or stand, and are allowed to do so until they either stand or bust. Then the person with the higher score among the dealer and the player (if they haven't busted) wins!"
   ]
  },
  {
   "cell_type": "code",
   "execution_count": 6,
   "metadata": {
    "id": "z2lKNNm4zTiv"
   },
   "outputs": [],
   "source": [
    "# You may find an infinite `while` loop (with a `break` somewhere) to be useful here\n"
   ]
  },
  {
   "cell_type": "markdown",
   "metadata": {},
   "source": [
    "---\n",
    "Now, we implement the dealer's behaviour. After the player is done, the dealer's card is revealed to the player. The dealer must hit if the value is less than 17, and keep going until the value is greater than 17. The moment this happens they must stop. \n",
    "\n",
    "* If the player had gone bust, the dealer wins, even if the dealer goes bust (This is why you shouldn't gamble, kids). \n",
    "* If the dealer goes bust, and the player doesn't, the player wins.\n",
    "* If the dealer and player both don't go bust, the one with the higher score wins!"
   ]
  },
  {
   "cell_type": "code",
   "execution_count": 7,
   "metadata": {},
   "outputs": [],
   "source": [
    "# You may find `while` loops to be useful here as well.\n"
   ]
  },
  {
   "cell_type": "markdown",
   "metadata": {},
   "source": [
    "---\n",
    "## We are done with mini-Blackjack!\n",
    "\n",
    "If you have reached this far, give yourself a pat on the back.<br>\n",
    "If you haven't, and you want to give yourself a pat on the back, reach out to us via the Doubts channel on MS Teams.<br>\n",
    "\n",
    "\n",
    "If you want to ~torture yourself~ improve this implementation of the game, here are features you can add:"
   ]
  },
  {
   "cell_type": "markdown",
   "metadata": {},
   "source": [
    "1. Implement split (see the YouTube video for the explanation), where if a player is dealt two similar cards (both 9s, for example), they can place another bet and split the cards into two independent hands."
   ]
  },
  {
   "cell_type": "markdown",
   "metadata": {},
   "source": [
    "2. Implement bets. Start off the player with an amount of their choosing, and they win or lose money as they play."
   ]
  },
  {
   "cell_type": "markdown",
   "metadata": {},
   "source": [
    "3. Implement Double Downs."
   ]
  },
  {
   "cell_type": "markdown",
   "metadata": {},
   "source": [
    "4. Instead of 1 deck of cards, most casinos use multiple decks of cards. Implement this in your program. In addition, whenever the deck goes below a certain number of cards after a round is done, fill up the stack with a set of new decks."
   ]
  },
  {
   "cell_type": "markdown",
   "metadata": {},
   "source": [
    "5. Add the suits to the cards. Python3 is unicode-compliant, so you can print and use any unicode symbol. Add a bit of color as well, printing hearts and diamonds as red, and spades and clubs as black."
   ]
  },
  {
   "cell_type": "markdown",
   "metadata": {},
   "source": [
    "6. Make the game more interactive. Ask the player for their names. Enable multiple players to play (after dealing the first two cards, the process is just done one after another for each player)."
   ]
  },
  {
   "cell_type": "markdown",
   "metadata": {},
   "source": [
    "7. Think about the way you have designed your code:<br>\n",
    "    Did you use classes in this tutorial? Did you have to?<br>\n",
    "    How can you make your code more readable and robust to bugs"
   ]
  },
  {
   "cell_type": "markdown",
   "metadata": {},
   "source": [
    "                                                __fin__\n",
    "                                                \n",
    "---"
   ]
  }
 ],
 "metadata": {
  "colab": {
   "collapsed_sections": [],
   "name": "blackjack.ipynb",
   "provenance": []
  },
  "kernelspec": {
   "display_name": "Python 3",
   "language": "python",
   "name": "python3"
  },
  "language_info": {
   "codemirror_mode": {
    "name": "ipython",
    "version": 3
   },
   "file_extension": ".py",
   "mimetype": "text/x-python",
   "name": "python",
   "nbconvert_exporter": "python",
   "pygments_lexer": "ipython3",
   "version": "3.8.5"
  }
 },
 "nbformat": 4,
 "nbformat_minor": 1
}
