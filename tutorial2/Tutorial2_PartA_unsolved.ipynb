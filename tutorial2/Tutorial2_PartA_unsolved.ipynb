{
 "cells": [
  {
   "cell_type": "markdown",
   "id": "ambient-dragon",
   "metadata": {},
   "source": [
    "# Tutorial 2: Part A\n",
    "## `Fraction`\n",
    "\n",
    "### Author: Vedant Prakash Shenoy"
   ]
  },
  {
   "cell_type": "markdown",
   "id": "interracial-encyclopedia",
   "metadata": {},
   "source": [
    "`fractions` is a library in the Python Standard Library that allows us to define (no points for guessing) fractions. This allows us to calculate HCFs and LCMs, do the normal arithmetic operations, and allow for different types of formatting (eg: improper fractions <-> mixed fractions)."
   ]
  },
  {
   "cell_type": "markdown",
   "id": "applied-correction",
   "metadata": {},
   "source": [
    "To illustrate how we can leverage classes, let us try to make a similar class for fractions ourselves!\n",
    "\n",
    "At any point, if you are confused about what to do, consult the [holy archives](https://www.google.com)"
   ]
  },
  {
   "cell_type": "markdown",
   "id": "nervous-basket",
   "metadata": {},
   "source": [
    "### Before Attempting this Tutorial:\n",
    "1. Revise what classes are (Lecture 3) and what dunder methods do (operator overloading)\n",
    "2. Watch [Python Class Development Toolkit](https://www.youtube.com/watch?v=HTLu2DFOdTg)\n",
    "\n",
    "### During this Tutorial\n",
    "1. Fill in the code to do what is described in the instructions.\n",
    "2. Write your own test cases.\n",
    "3. Try to think of different ways to implement the features that we want our class to have\n",
    "\n",
    "We will cover the following concepts in roughly the same order:\n",
    "1. Data Attributes and Methods (including `__init__` and `__repr__`)\n",
    "2. Input validation and Exception Handling\n",
    "3. `@property` and `@property.setter`\n",
    "4. More dunder methods: arithmetic operations, relational operatations and absolute value\n",
    "5. `@classmethods` and alternate constructors\n",
    "\n",
    "If you see something new in the above list, revise Lecture 3 and watch the video linked above.\n",
    "\n",
    "### After this Tutorial\n",
    "1. Notice how we incrementally develop the class `Fraction`, and find new test cases that break our code, and continue the process iteratively. This testing can by automated using 'Unit Testing'. Try to find out how this is done in Python; it may be useful for you in your project!\n",
    "2. Use the concepts you have learnt here, and try to apply them in a field you are interested in.\n",
    "3. Go watch this video to find out when you should not be using classes: [Stop Writing Classes](https://www.youtube.com/watch?v=o9pEzgHorH0)"
   ]
  },
  {
   "cell_type": "markdown",
   "id": "tamil-series",
   "metadata": {},
   "source": [
    "---\n",
    "To start off with, we need to implement the concept of a fraction. At its core, a fraction simply has a numerator (`num`) and a denominator (`den`); and dividing them gives the decimal value (`decimal`)\n",
    "\n",
    "We'll also add a pretty `repr` so that we can see what the fraction is."
   ]
  },
  {
   "cell_type": "code",
   "execution_count": null,
   "id": "dutch-analyst",
   "metadata": {},
   "outputs": [],
   "source": [
    "class Fraction:\n",
    "    \"\"\"Class to implement fractions\"\"\"\n",
    "    \n",
    "    def __init__(self, num, den):\n",
    "        \"\"\"Initialize instance using numerator and denominator\"\"\"\n",
    "        self.num = num\n",
    "        self.den = den\n",
    "        \n",
    "    def decimal(self):\n",
    "        return self.num/self.den\n",
    "    \n",
    "    def __repr__(self):\n",
    "        return f\"{self.num}/{self.den} = {self.decimal()}\""
   ]
  },
  {
   "cell_type": "code",
   "execution_count": null,
   "id": "champion-collapse",
   "metadata": {},
   "outputs": [],
   "source": [
    "f = Fraction(1, 2)\n",
    "print(f.num, f.den, f.decimal())"
   ]
  },
  {
   "cell_type": "code",
   "execution_count": null,
   "id": "constant-specification",
   "metadata": {},
   "outputs": [],
   "source": [
    "Fraction(1, 3)"
   ]
  },
  {
   "cell_type": "code",
   "execution_count": null,
   "id": "southeast-specific",
   "metadata": {},
   "outputs": [],
   "source": [
    "Fraction(-1, 3)"
   ]
  },
  {
   "cell_type": "markdown",
   "id": "humanitarian-theorem",
   "metadata": {},
   "source": [
    "Looks good so far. However:"
   ]
  },
  {
   "cell_type": "code",
   "execution_count": null,
   "id": "genetic-toilet",
   "metadata": {},
   "outputs": [],
   "source": [
    "Fraction(1.5, 1)"
   ]
  },
  {
   "cell_type": "code",
   "execution_count": null,
   "id": "moved-conversation",
   "metadata": {},
   "outputs": [],
   "source": [
    "Fraction(1, -3)"
   ]
  },
  {
   "cell_type": "code",
   "execution_count": null,
   "id": "intelligent-concentrate",
   "metadata": {},
   "outputs": [],
   "source": [
    "Fraction(0, 1)"
   ]
  },
  {
   "cell_type": "code",
   "execution_count": null,
   "id": "destroyed-impossible",
   "metadata": {},
   "outputs": [],
   "source": [
    "Fraction(1, 0)"
   ]
  },
  {
   "cell_type": "markdown",
   "id": "compact-memory",
   "metadata": {},
   "source": [
    "---\n",
    "What happened in those last two cells? There are three basic properties of fractions that we haven't yet implemented: \n",
    "1. `num` and `den` are integers,\n",
    "2. `den` can't be zero,\n",
    "3. the sign is written next to the numerator.\n",
    "\n",
    "Let us modify the class to reflect this as well."
   ]
  },
  {
   "cell_type": "code",
   "execution_count": null,
   "id": "editorial-deputy",
   "metadata": {},
   "outputs": [],
   "source": [
    "class Fraction:\n",
    "    \"\"\"Class to implement fractions\"\"\"\n",
    "    \n",
    "    def __init__(self, num, den):\n",
    "        \"\"\"Initialize instance using numerator and denominator\"\"\"\n",
    "        # Modify the __init__ function from above to do the checks that we wanted.\n",
    "    \n",
    "    def decimal(self):\n",
    "        return self.num/self.den    \n",
    "    \n",
    "    def __repr__(self):\n",
    "        return f\"{self.num}/{self.den} = {self.decimal()}\""
   ]
  },
  {
   "cell_type": "code",
   "execution_count": null,
   "id": "motivated-musical",
   "metadata": {},
   "outputs": [],
   "source": [
    "# Expected: a TypeError (since `num` is not an integer)\n",
    "Fraction(1.2, 3)"
   ]
  },
  {
   "cell_type": "code",
   "execution_count": null,
   "id": "false-occasions",
   "metadata": {},
   "outputs": [],
   "source": [
    "# Expected: ZeroDevisionError (since `den` is zero)\n",
    "Fraction(1, 0)"
   ]
  },
  {
   "cell_type": "code",
   "execution_count": null,
   "id": "covered-indian",
   "metadata": {},
   "outputs": [],
   "source": [
    "# Expected: Fraction -1/2 and not 1/-2\n",
    "Fraction(1, -2)"
   ]
  },
  {
   "cell_type": "markdown",
   "id": "white-disclaimer",
   "metadata": {},
   "source": [
    "---\n",
    "Our problems with wrong input types and values are now solved! We can now move on with implementing operations right?\n",
    "\n",
    "However, a new bug shows up!"
   ]
  },
  {
   "cell_type": "code",
   "execution_count": null,
   "id": "dimensional-profit",
   "metadata": {},
   "outputs": [],
   "source": [
    "f = Fraction(1, 2)\n",
    "f.num = 3.2\n",
    "f.den = 1.2"
   ]
  },
  {
   "cell_type": "code",
   "execution_count": null,
   "id": "hired-italy",
   "metadata": {},
   "outputs": [],
   "source": [
    "f"
   ]
  },
  {
   "cell_type": "markdown",
   "id": "thermal-pocket",
   "metadata": {},
   "source": [
    "Python allows for attributes to be accessed and changed (there are no private or protected variables here).\n",
    "\n",
    "This means that if the user changes the numerator and denominator later on, the checks that we did in `__init__` are no longer done.\n",
    "\n",
    "How can we solve this? Simple, rename `num` as `_num` and so on. This is a convention that lets people know not to mess with that attribute.\n",
    "\n",
    "But then, the value of `num` is not accessible directly. We could write a method `num()` to return the value of `self._num`?\n",
    "\n",
    "A solution that lets us keep the earlier API (and shows that `num` is a data attribute or a property rather than a method) is to use the `@property` decorator. Complete the class definition below:"
   ]
  },
  {
   "cell_type": "code",
   "execution_count": null,
   "id": "matched-deposit",
   "metadata": {},
   "outputs": [],
   "source": [
    "class Fraction:\n",
    "    \"\"\"Class to implement fractions\"\"\"\n",
    "    \n",
    "    def __init__(self, num, den):\n",
    "        \"\"\"Initialize instance using numerator and denominator\"\"\"\n",
    "        # Copy your _init__ from above\n",
    "\n",
    "    def decimal(self):\n",
    "        return self.num/self.den\n",
    "    \n",
    "    @property\n",
    "    def num(self):\n",
    "        return self._num\n",
    "\n",
    "\n",
    "    def __repr__(self):\n",
    "        return f\"{self._num}/{self._den} = {self._decimal()}\"   "
   ]
  },
  {
   "cell_type": "code",
   "execution_count": null,
   "id": "minus-tutorial",
   "metadata": {},
   "outputs": [],
   "source": [
    "f = Fraction(1, 2)\n",
    "f.num, f.den"
   ]
  },
  {
   "cell_type": "code",
   "execution_count": null,
   "id": "invalid-experiment",
   "metadata": {},
   "outputs": [],
   "source": [
    "f.num = 2"
   ]
  },
  {
   "cell_type": "code",
   "execution_count": null,
   "id": "violent-caution",
   "metadata": {},
   "outputs": [],
   "source": [
    "f"
   ]
  },
  {
   "cell_type": "markdown",
   "id": "warming-format",
   "metadata": {},
   "source": [
    "---\n",
    "This solves our problem of worrying about the user breaking our code. However, keep in mind that if they want to, they still can (change `f._num` instead in the cell above)\n",
    "\n",
    "\n",
    "Note how this varies somewhat from the `C++ Way of Doing Things`<sup>TM</sup>, where you might write a `get_num()` method to get the value and a `set_num()` method to set the value (if you wish to implement such a feature).\n",
    "\n",
    "The idiomatic way to do it in Python is to use `@property` and `@property.setter`. Again, we show the process for `num`. Complete the code for `den` to make `Fraction` a mutable, consistent container for fractions."
   ]
  },
  {
   "cell_type": "code",
   "execution_count": null,
   "id": "disciplinary-style",
   "metadata": {},
   "outputs": [],
   "source": [
    "class Fraction:\n",
    "    \"\"\"Class to implement fractions\"\"\"\n",
    "    \n",
    "    def __init__(self, num, den):\n",
    "        \"\"\"Initialize instance using numerator and denominator\"\"\"\n",
    "        # Copy __init__ from above\n",
    "    \n",
    "    def decimal(self):\n",
    "        return self.num/self.den\n",
    "    \n",
    "    @property\n",
    "    def num(self):\n",
    "        return self._num\n",
    "    \n",
    "    @num.setter\n",
    "    def num(self, value):\n",
    "        if isinstance(value, int):\n",
    "            self._num = value\n",
    "        else:\n",
    "            raise TypeError(f\"`num` must be of type 'int', not '{type(value).__name__}'\")\n",
    "    \n",
    "    # Put in @property and @property.setter for den as well\n",
    "                \n",
    "    def __repr__(self):\n",
    "        return f\"{self._num}/{self._den} = {self.decimal()}\""
   ]
  },
  {
   "cell_type": "code",
   "execution_count": null,
   "id": "necessary-valuable",
   "metadata": {},
   "outputs": [],
   "source": [
    "f = Fraction(1, 2)"
   ]
  },
  {
   "cell_type": "code",
   "execution_count": null,
   "id": "brief-police",
   "metadata": {},
   "outputs": [],
   "source": [
    "f.num = 2\n",
    "f.den = -1"
   ]
  },
  {
   "cell_type": "code",
   "execution_count": null,
   "id": "bigger-amazon",
   "metadata": {},
   "outputs": [],
   "source": [
    "f"
   ]
  },
  {
   "cell_type": "markdown",
   "id": "formed-patrol",
   "metadata": {},
   "source": [
    "---\n",
    "At this point, we have a class `Fraction` which does has all the checks we wanted it to have, is mutable and remains consistent at all times.\n",
    "\n",
    "Let us take the plunge and add more features"
   ]
  },
  {
   "cell_type": "markdown",
   "id": "controversial-patch",
   "metadata": {},
   "source": [
    "## Feature Request\n",
    "Implement the following features into the class `Fraction`\n",
    "1. A method to get the simplest form of a fraction (2/4 --> 1/2)\n",
    "2. Modify `Fraction.decimal()` to take an optional argument `fmt`, which if provided returns a formatted string with the given format. For example:\n",
    "\n",
    "                                            f = Fraction(1, 3)\n",
    "                                            print(f.decimal())\n",
    "                                            # Out: 0.3333333333333333\n",
    "                                            \n",
    "                                            print(f.decimal('4.2f'))\n",
    "                                            # Out: 0.33\n",
    "                                            \n",
    "                                            print(f.decimal('.2e')\n",
    "                                            # Out: 3.33e-01\n",
    "3. Define the `abs` of a `Fraction`\n",
    "4. Make the `repr` a bit more expressive: include the class name. When someone prints an instance of `Fraction`, only show the `num`/`den` form. On the interactive console, this should look something like:\n",
    "\n",
    "                                            In : f = Fraction(-2, 4)\n",
    "\n",
    "                                            In : f\n",
    "                                            Out: Fraction: -2/4 = -0.5\n",
    "\n",
    "                                            In : print(f)\n",
    "                                            -2/4\n",
    "\n",
    "(Hint: Look up the dunder method `__str__` and how it differs from `__repr__`)"
   ]
  },
  {
   "cell_type": "code",
   "execution_count": null,
   "id": "distant-sender",
   "metadata": {},
   "outputs": [],
   "source": [
    "class Fraction:\n",
    "    \"\"\"Class to implement fractions\"\"\"\n",
    "    \n",
    "    def __init__(self, num, den):\n",
    "        \"\"\"Initialize instance using numerator and denominator\"\"\"\n",
    "        # You know what to do here.\n",
    "    \n",
    "    def decimal(self, fmt=None):\n",
    "        \"\"\"Format the decimal output according to fmt and return a string. If not passed, return a float.\"\"\"\n",
    "        # You can maybe try to use `if fmt is None:`\n",
    "        \n",
    "    def simple(self):\n",
    "        \"\"\"Return a Fraction instance with num and den in simplest form\"\"\"\n",
    "        pass\n",
    "    \n",
    "    @property\n",
    "    def num(self):\n",
    "        return self._num\n",
    "    \n",
    "    @num.setter\n",
    "    def num(self, value):\n",
    "        if isinstance(value, int):\n",
    "            self._num = value\n",
    "        else:\n",
    "            raise TypeError(f\"`num` must be of type 'int', not '{type(value).__name__}'\")\n",
    "    \n",
    "    # Make `den` also a property!\n",
    "                \n",
    "    def __repr__(self):\n",
    "        return f\"{self.__class__.__name__}: {self._num}/{self._den} = {self.decimal()}\"\n",
    "    \n",
    "    def __str__(self):\n",
    "        return f\"{self._num}/{self._den}\"\n",
    "\n",
    "    def __abs__(self):\n",
    "        \"\"\"Return the absolute value of the Fraction\"\"\"\n",
    "        pass"
   ]
  },
  {
   "cell_type": "code",
   "execution_count": null,
   "id": "quick-cleanup",
   "metadata": {},
   "outputs": [],
   "source": [
    "f = Fraction(-2, 4)"
   ]
  },
  {
   "cell_type": "code",
   "execution_count": null,
   "id": "steady-dressing",
   "metadata": {},
   "outputs": [],
   "source": [
    "f"
   ]
  },
  {
   "cell_type": "code",
   "execution_count": null,
   "id": "egyptian-anatomy",
   "metadata": {},
   "outputs": [],
   "source": [
    "print(f)"
   ]
  },
  {
   "cell_type": "code",
   "execution_count": null,
   "id": "personal-fight",
   "metadata": {},
   "outputs": [],
   "source": [
    "f.simple()"
   ]
  },
  {
   "cell_type": "code",
   "execution_count": null,
   "id": "revised-removal",
   "metadata": {},
   "outputs": [],
   "source": [
    "f.decimal('0.3f')"
   ]
  },
  {
   "cell_type": "code",
   "execution_count": null,
   "id": "through-cancellation",
   "metadata": {},
   "outputs": [],
   "source": [
    "abs(f)"
   ]
  },
  {
   "cell_type": "markdown",
   "id": "technical-maryland",
   "metadata": {},
   "source": [
    "---\n",
    "## Feature Request\n",
    "Implement the following features into the class `Fraction`\n",
    "1. The operations for addition, subtraction, multiplication, and division (as per the usual definitions for fractions). Return an instance of `Fraction` with the numerator and denominator in the simplest form. \n",
    "2. Define the relational operators (`==`, `>`, `<`, `>=`, `<=`, `!=`) for fractions.\n",
    "\n",
    "\n",
    "3. Make all the above operations compatible with normal numbers (`int` and `float` data types) as well. Use the test case\n",
    "\n",
    "                                        Fraction(4, 100) == 0.16 - 0.12"
   ]
  },
  {
   "cell_type": "code",
   "execution_count": null,
   "id": "generous-exercise",
   "metadata": {},
   "outputs": [],
   "source": [
    "# Copy the class definition from above and add __dunder__ methods to do all these things.\n",
    "# If you do not implement the compatibility with `float`, \n",
    "# then raise an exception, so that the user knows not to do it."
   ]
  },
  {
   "cell_type": "code",
   "execution_count": null,
   "id": "spatial-framework",
   "metadata": {},
   "outputs": [],
   "source": [
    "f1 = Fraction(1, 2)\n",
    "f2 = Fraction(5, 6)"
   ]
  },
  {
   "cell_type": "code",
   "execution_count": null,
   "id": "charming-liberal",
   "metadata": {},
   "outputs": [],
   "source": [
    "f1 + f2"
   ]
  },
  {
   "cell_type": "markdown",
   "id": "historical-namibia",
   "metadata": {},
   "source": [
    "---\n",
    "## Feature Request\n",
    "Alternative constructors (good time to remember what you saw in that YouTube video)\n",
    "1. Add support for mixed fractions. Figure out how you want to implement this yourself.\n",
    "\n",
    "2. Make alternative constructors for `Fraction`. Implement the following ways of making a `Fraction` instance:\n",
    "\n",
    "                                Fraction.from_string(\"1/2\")  # This should be equivalent to Fraction(1, 2)\n",
    "                                Fraction.from_tuple((2))  # Fraction(2, 1)\n",
    "                                Fraction.from_tuple((2, 3))  # Fraction(2, 3)\n",
    "                                Fraction.from_tuple((1, 2, 3))  # Fraction(5, 3): a mixed fraction\n",
    "                                Fraction.from_dict(dict(num=2, den=3))  # Fraction(2, 3)"
   ]
  },
  {
   "cell_type": "markdown",
   "id": "copyrighted-fusion",
   "metadata": {},
   "source": [
    "# Concluding Notes\n",
    "\n",
    "We hope you guys had fun writing out this class. Have a look at the `fractions` library to see how much of its functionality you have replicated in this tutorial, and how you can improve it.\n",
    "\n",
    "On Friday afternoon (Jun 4), we will release Part B of the tutorial. Good luck!"
   ]
  }
 ],
 "metadata": {
  "kernelspec": {
   "display_name": "Python 3",
   "language": "python",
   "name": "python3"
  },
  "language_info": {
   "codemirror_mode": {
    "name": "ipython",
    "version": 3
   },
   "file_extension": ".py",
   "mimetype": "text/x-python",
   "name": "python",
   "nbconvert_exporter": "python",
   "pygments_lexer": "ipython3",
   "version": "3.8.5"
  }
 },
 "nbformat": 4,
 "nbformat_minor": 5
}
