{
 "cells": [
  {
   "cell_type": "markdown",
   "id": "alone-leather",
   "metadata": {},
   "source": [
    "# Tutorial 2: Part A\n",
    "## `Fraction`\n",
    "\n",
    "### Author: Vedant Prakash Shenoy"
   ]
  },
  {
   "cell_type": "markdown",
   "id": "capital-hurricane",
   "metadata": {},
   "source": [
    "`fractions` is a library in the Python Standard Library that allows us to define (no points for guessing) fractions. This allows us to calculate HCFs and LCMs, do the normal arithmetic operations, and allow for different types of formatting (eg: improper fractions <-> mixed fractions)."
   ]
  },
  {
   "cell_type": "markdown",
   "id": "fatal-antenna",
   "metadata": {},
   "source": [
    "To illustrate how we can leverage classes, let us try to make a similar class for fractions ourselves!\n",
    "\n",
    "At any point, if you are confused about what to do, consult the [holy archives](https://www.google.com)"
   ]
  },
  {
   "cell_type": "markdown",
   "id": "lightweight-boulder",
   "metadata": {},
   "source": [
    "### Before Attempting this Tutorial:\n",
    "1. Revise what classes are (Lecture 3) and what dunder methods do (operator overloading)\n",
    "2. Watch [Python Class Development Toolkit](https://www.youtube.com/watch?v=HTLu2DFOdTg)\n",
    "\n",
    "### During this Tutorial\n",
    "1. Fill in the code to do what is described in the instructions.\n",
    "2. Write your own test cases.\n",
    "3. Try to think of different ways to implement the features that we want our class to have\n",
    "\n",
    "We will cover the following concepts in roughly the same order:\n",
    "1. Data Attributes and Methods (including `__init__` and `__repr__`)\n",
    "2. Input validation and Exception Handling\n",
    "3. `@property` and `@property.setter`\n",
    "4. More dunder methods: arithmetic operations, relational operatations and absolute value\n",
    "5. `@classmethods` and alternate constructors\n",
    "\n",
    "If you see something new in the above list, revise Lecture 3 and watch the video linked above.\n",
    "\n",
    "### After this Tutorial\n",
    "1. Notice how we incrementally develop the class `Fraction`, and find new test cases that break our code, and continue the process iteratively. This testing can by automated using 'Unit Testing'. Try to find out how this is done in Python; it may be useful for you in your project!\n",
    "2. Use the concepts you have learnt here, and try to apply them in a field you are interested in.\n",
    "3. Go watch this video to find out when you should not be using classes: [Stop Writing Classes](https://www.youtube.com/watch?v=o9pEzgHorH0)"
   ]
  },
  {
   "cell_type": "markdown",
   "id": "completed-wedding",
   "metadata": {},
   "source": [
    "---\n",
    "To start off with, we need to implement the concept of a fraction. At its core, a fraction simply has a numerator (`num`) and a denominator (`den`); and dividing them gives the decimal value (`decimal`)\n",
    "\n",
    "We'll also add a pretty `repr` so that we can see what the fraction is."
   ]
  },
  {
   "cell_type": "code",
   "execution_count": 1,
   "id": "physical-raise",
   "metadata": {},
   "outputs": [],
   "source": [
    "class Fraction:\n",
    "    \"\"\"Class to implement fractions\"\"\"\n",
    "    \n",
    "    def __init__(self, num, den):\n",
    "        \"\"\"Initialize instance using numerator and denominator\"\"\"\n",
    "        self.num = num\n",
    "        self.den = den\n",
    "        \n",
    "    def decimal(self):\n",
    "        return self.num/self.den\n",
    "    \n",
    "    def __repr__(self):\n",
    "        return f\"{self.num}/{self.den} = {self.decimal()}\""
   ]
  },
  {
   "cell_type": "code",
   "execution_count": 2,
   "id": "accomplished-dependence",
   "metadata": {},
   "outputs": [
    {
     "name": "stdout",
     "output_type": "stream",
     "text": [
      "1 2 0.5\n"
     ]
    }
   ],
   "source": [
    "f = Fraction(1, 2)\n",
    "print(f.num, f.den, f.decimal())"
   ]
  },
  {
   "cell_type": "code",
   "execution_count": 3,
   "id": "actual-speaking",
   "metadata": {},
   "outputs": [
    {
     "data": {
      "text/plain": [
       "1/3 = 0.3333333333333333"
      ]
     },
     "execution_count": 3,
     "metadata": {},
     "output_type": "execute_result"
    }
   ],
   "source": [
    "Fraction(1, 3)"
   ]
  },
  {
   "cell_type": "code",
   "execution_count": 4,
   "id": "aging-hardware",
   "metadata": {},
   "outputs": [
    {
     "data": {
      "text/plain": [
       "-1/3 = -0.3333333333333333"
      ]
     },
     "execution_count": 4,
     "metadata": {},
     "output_type": "execute_result"
    }
   ],
   "source": [
    "Fraction(-1, 3)"
   ]
  },
  {
   "cell_type": "markdown",
   "id": "bound-variable",
   "metadata": {},
   "source": [
    "Looks good so far. However:"
   ]
  },
  {
   "cell_type": "code",
   "execution_count": 5,
   "id": "advisory-outline",
   "metadata": {},
   "outputs": [
    {
     "data": {
      "text/plain": [
       "1.5/1 = 1.5"
      ]
     },
     "execution_count": 5,
     "metadata": {},
     "output_type": "execute_result"
    }
   ],
   "source": [
    "Fraction(1.5, 1)"
   ]
  },
  {
   "cell_type": "code",
   "execution_count": 6,
   "id": "primary-belize",
   "metadata": {},
   "outputs": [
    {
     "data": {
      "text/plain": [
       "1/-3 = -0.3333333333333333"
      ]
     },
     "execution_count": 6,
     "metadata": {},
     "output_type": "execute_result"
    }
   ],
   "source": [
    "Fraction(1, -3)"
   ]
  },
  {
   "cell_type": "code",
   "execution_count": 7,
   "id": "hollywood-image",
   "metadata": {},
   "outputs": [
    {
     "data": {
      "text/plain": [
       "0/1 = 0.0"
      ]
     },
     "execution_count": 7,
     "metadata": {},
     "output_type": "execute_result"
    }
   ],
   "source": [
    "Fraction(0, 1)"
   ]
  },
  {
   "cell_type": "code",
   "execution_count": 8,
   "id": "becoming-climate",
   "metadata": {},
   "outputs": [
    {
     "ename": "ZeroDivisionError",
     "evalue": "division by zero",
     "output_type": "error",
     "traceback": [
      "\u001b[0;31m---------------------------------------------------------------------------\u001b[0m",
      "\u001b[0;31mZeroDivisionError\u001b[0m                         Traceback (most recent call last)",
      "\u001b[0;32m~/miniconda3/lib/python3.8/site-packages/IPython/core/formatters.py\u001b[0m in \u001b[0;36m__call__\u001b[0;34m(self, obj)\u001b[0m\n\u001b[1;32m    700\u001b[0m                 \u001b[0mtype_pprinters\u001b[0m\u001b[0;34m=\u001b[0m\u001b[0mself\u001b[0m\u001b[0;34m.\u001b[0m\u001b[0mtype_printers\u001b[0m\u001b[0;34m,\u001b[0m\u001b[0;34m\u001b[0m\u001b[0;34m\u001b[0m\u001b[0m\n\u001b[1;32m    701\u001b[0m                 deferred_pprinters=self.deferred_printers)\n\u001b[0;32m--> 702\u001b[0;31m             \u001b[0mprinter\u001b[0m\u001b[0;34m.\u001b[0m\u001b[0mpretty\u001b[0m\u001b[0;34m(\u001b[0m\u001b[0mobj\u001b[0m\u001b[0;34m)\u001b[0m\u001b[0;34m\u001b[0m\u001b[0;34m\u001b[0m\u001b[0m\n\u001b[0m\u001b[1;32m    703\u001b[0m             \u001b[0mprinter\u001b[0m\u001b[0;34m.\u001b[0m\u001b[0mflush\u001b[0m\u001b[0;34m(\u001b[0m\u001b[0;34m)\u001b[0m\u001b[0;34m\u001b[0m\u001b[0;34m\u001b[0m\u001b[0m\n\u001b[1;32m    704\u001b[0m             \u001b[0;32mreturn\u001b[0m \u001b[0mstream\u001b[0m\u001b[0;34m.\u001b[0m\u001b[0mgetvalue\u001b[0m\u001b[0;34m(\u001b[0m\u001b[0;34m)\u001b[0m\u001b[0;34m\u001b[0m\u001b[0;34m\u001b[0m\u001b[0m\n",
      "\u001b[0;32m~/miniconda3/lib/python3.8/site-packages/IPython/lib/pretty.py\u001b[0m in \u001b[0;36mpretty\u001b[0;34m(self, obj)\u001b[0m\n\u001b[1;32m    392\u001b[0m                         \u001b[0;32mif\u001b[0m \u001b[0mcls\u001b[0m \u001b[0;32mis\u001b[0m \u001b[0;32mnot\u001b[0m \u001b[0mobject\u001b[0m\u001b[0;31m \u001b[0m\u001b[0;31m\\\u001b[0m\u001b[0;34m\u001b[0m\u001b[0;34m\u001b[0m\u001b[0m\n\u001b[1;32m    393\u001b[0m                                 \u001b[0;32mand\u001b[0m \u001b[0mcallable\u001b[0m\u001b[0;34m(\u001b[0m\u001b[0mcls\u001b[0m\u001b[0;34m.\u001b[0m\u001b[0m__dict__\u001b[0m\u001b[0;34m.\u001b[0m\u001b[0mget\u001b[0m\u001b[0;34m(\u001b[0m\u001b[0;34m'__repr__'\u001b[0m\u001b[0;34m)\u001b[0m\u001b[0;34m)\u001b[0m\u001b[0;34m:\u001b[0m\u001b[0;34m\u001b[0m\u001b[0;34m\u001b[0m\u001b[0m\n\u001b[0;32m--> 394\u001b[0;31m                             \u001b[0;32mreturn\u001b[0m \u001b[0m_repr_pprint\u001b[0m\u001b[0;34m(\u001b[0m\u001b[0mobj\u001b[0m\u001b[0;34m,\u001b[0m \u001b[0mself\u001b[0m\u001b[0;34m,\u001b[0m \u001b[0mcycle\u001b[0m\u001b[0;34m)\u001b[0m\u001b[0;34m\u001b[0m\u001b[0;34m\u001b[0m\u001b[0m\n\u001b[0m\u001b[1;32m    395\u001b[0m \u001b[0;34m\u001b[0m\u001b[0m\n\u001b[1;32m    396\u001b[0m             \u001b[0;32mreturn\u001b[0m \u001b[0m_default_pprint\u001b[0m\u001b[0;34m(\u001b[0m\u001b[0mobj\u001b[0m\u001b[0;34m,\u001b[0m \u001b[0mself\u001b[0m\u001b[0;34m,\u001b[0m \u001b[0mcycle\u001b[0m\u001b[0;34m)\u001b[0m\u001b[0;34m\u001b[0m\u001b[0;34m\u001b[0m\u001b[0m\n",
      "\u001b[0;32m~/miniconda3/lib/python3.8/site-packages/IPython/lib/pretty.py\u001b[0m in \u001b[0;36m_repr_pprint\u001b[0;34m(obj, p, cycle)\u001b[0m\n\u001b[1;32m    698\u001b[0m     \u001b[0;34m\"\"\"A pprint that just redirects to the normal repr function.\"\"\"\u001b[0m\u001b[0;34m\u001b[0m\u001b[0;34m\u001b[0m\u001b[0m\n\u001b[1;32m    699\u001b[0m     \u001b[0;31m# Find newlines and replace them with p.break_()\u001b[0m\u001b[0;34m\u001b[0m\u001b[0;34m\u001b[0m\u001b[0;34m\u001b[0m\u001b[0m\n\u001b[0;32m--> 700\u001b[0;31m     \u001b[0moutput\u001b[0m \u001b[0;34m=\u001b[0m \u001b[0mrepr\u001b[0m\u001b[0;34m(\u001b[0m\u001b[0mobj\u001b[0m\u001b[0;34m)\u001b[0m\u001b[0;34m\u001b[0m\u001b[0;34m\u001b[0m\u001b[0m\n\u001b[0m\u001b[1;32m    701\u001b[0m     \u001b[0mlines\u001b[0m \u001b[0;34m=\u001b[0m \u001b[0moutput\u001b[0m\u001b[0;34m.\u001b[0m\u001b[0msplitlines\u001b[0m\u001b[0;34m(\u001b[0m\u001b[0;34m)\u001b[0m\u001b[0;34m\u001b[0m\u001b[0;34m\u001b[0m\u001b[0m\n\u001b[1;32m    702\u001b[0m     \u001b[0;32mwith\u001b[0m \u001b[0mp\u001b[0m\u001b[0;34m.\u001b[0m\u001b[0mgroup\u001b[0m\u001b[0;34m(\u001b[0m\u001b[0;34m)\u001b[0m\u001b[0;34m:\u001b[0m\u001b[0;34m\u001b[0m\u001b[0;34m\u001b[0m\u001b[0m\n",
      "\u001b[0;32m<ipython-input-1-83965bfbee19>\u001b[0m in \u001b[0;36m__repr__\u001b[0;34m(self)\u001b[0m\n\u001b[1;32m     11\u001b[0m \u001b[0;34m\u001b[0m\u001b[0m\n\u001b[1;32m     12\u001b[0m     \u001b[0;32mdef\u001b[0m \u001b[0m__repr__\u001b[0m\u001b[0;34m(\u001b[0m\u001b[0mself\u001b[0m\u001b[0;34m)\u001b[0m\u001b[0;34m:\u001b[0m\u001b[0;34m\u001b[0m\u001b[0;34m\u001b[0m\u001b[0m\n\u001b[0;32m---> 13\u001b[0;31m         \u001b[0;32mreturn\u001b[0m \u001b[0;34mf\"{self.num}/{self.den} = {self.decimal()}\"\u001b[0m\u001b[0;34m\u001b[0m\u001b[0;34m\u001b[0m\u001b[0m\n\u001b[0m",
      "\u001b[0;32m<ipython-input-1-83965bfbee19>\u001b[0m in \u001b[0;36mdecimal\u001b[0;34m(self)\u001b[0m\n\u001b[1;32m      8\u001b[0m \u001b[0;34m\u001b[0m\u001b[0m\n\u001b[1;32m      9\u001b[0m     \u001b[0;32mdef\u001b[0m \u001b[0mdecimal\u001b[0m\u001b[0;34m(\u001b[0m\u001b[0mself\u001b[0m\u001b[0;34m)\u001b[0m\u001b[0;34m:\u001b[0m\u001b[0;34m\u001b[0m\u001b[0;34m\u001b[0m\u001b[0m\n\u001b[0;32m---> 10\u001b[0;31m         \u001b[0;32mreturn\u001b[0m \u001b[0mself\u001b[0m\u001b[0;34m.\u001b[0m\u001b[0mnum\u001b[0m\u001b[0;34m/\u001b[0m\u001b[0mself\u001b[0m\u001b[0;34m.\u001b[0m\u001b[0mden\u001b[0m\u001b[0;34m\u001b[0m\u001b[0;34m\u001b[0m\u001b[0m\n\u001b[0m\u001b[1;32m     11\u001b[0m \u001b[0;34m\u001b[0m\u001b[0m\n\u001b[1;32m     12\u001b[0m     \u001b[0;32mdef\u001b[0m \u001b[0m__repr__\u001b[0m\u001b[0;34m(\u001b[0m\u001b[0mself\u001b[0m\u001b[0;34m)\u001b[0m\u001b[0;34m:\u001b[0m\u001b[0;34m\u001b[0m\u001b[0;34m\u001b[0m\u001b[0m\n",
      "\u001b[0;31mZeroDivisionError\u001b[0m: division by zero"
     ]
    }
   ],
   "source": [
    "Fraction(1, 0)"
   ]
  },
  {
   "cell_type": "markdown",
   "id": "laughing-immune",
   "metadata": {},
   "source": [
    "---\n",
    "What happened in those last two cells? There are three basic properties of fractions that we haven't yet implemented: \n",
    "1. `num` and `den` are integers,\n",
    "2. `den` can't be zero,\n",
    "3. the sign is written next to the numerator.\n",
    "\n",
    "Let us modify the class to reflect this as well."
   ]
  },
  {
   "cell_type": "code",
   "execution_count": 9,
   "id": "bearing-selling",
   "metadata": {},
   "outputs": [],
   "source": [
    "class Fraction:\n",
    "    \"\"\"Class to implement fractions\"\"\"\n",
    "    \n",
    "    def __init__(self, num, den):\n",
    "        \"\"\"Initialize instance using numerator and denominator\"\"\"\n",
    "        # Modify the __init__ function from above to do the checks that we wanted.\n",
    "        if not (isinstance(num, int) and isinstance(den, int)):\n",
    "            raise TypeError(f\"`num` and `den` must both be integers, not '{type(num).__name__}' and '{type(den).__name__}'\")\n",
    "        if den == 0:\n",
    "            raise ZeroDivisionError(f\"`den` must not be 0\")\n",
    "        \n",
    "        self.num = num\n",
    "        if den < 0:\n",
    "            self.num = -self.num\n",
    "        self.den = abs(den)\n",
    "\n",
    "    def decimal(self):\n",
    "        return self.num/self.den    \n",
    "    \n",
    "    def __repr__(self):\n",
    "        return f\"{self.num}/{self.den} = {self.decimal()}\""
   ]
  },
  {
   "cell_type": "code",
   "execution_count": 10,
   "id": "increasing-verse",
   "metadata": {},
   "outputs": [
    {
     "ename": "TypeError",
     "evalue": "`num` and `den` must both be integers, not 'float' and 'int'",
     "output_type": "error",
     "traceback": [
      "\u001b[0;31m---------------------------------------------------------------------------\u001b[0m",
      "\u001b[0;31mTypeError\u001b[0m                                 Traceback (most recent call last)",
      "\u001b[0;32m<ipython-input-10-cb2e62e53039>\u001b[0m in \u001b[0;36m<module>\u001b[0;34m\u001b[0m\n\u001b[1;32m      1\u001b[0m \u001b[0;31m# Expected: a TypeError (since `num` is not an integer)\u001b[0m\u001b[0;34m\u001b[0m\u001b[0;34m\u001b[0m\u001b[0;34m\u001b[0m\u001b[0m\n\u001b[0;32m----> 2\u001b[0;31m \u001b[0mFraction\u001b[0m\u001b[0;34m(\u001b[0m\u001b[0;36m1.2\u001b[0m\u001b[0;34m,\u001b[0m \u001b[0;36m3\u001b[0m\u001b[0;34m)\u001b[0m\u001b[0;34m\u001b[0m\u001b[0;34m\u001b[0m\u001b[0m\n\u001b[0m",
      "\u001b[0;32m<ipython-input-9-ac22cf4be4e5>\u001b[0m in \u001b[0;36m__init__\u001b[0;34m(self, num, den)\u001b[0m\n\u001b[1;32m      6\u001b[0m         \u001b[0;31m# Modify the __init__ function from above to do the checks that we wanted.\u001b[0m\u001b[0;34m\u001b[0m\u001b[0;34m\u001b[0m\u001b[0;34m\u001b[0m\u001b[0m\n\u001b[1;32m      7\u001b[0m         \u001b[0;32mif\u001b[0m \u001b[0;32mnot\u001b[0m \u001b[0;34m(\u001b[0m\u001b[0misinstance\u001b[0m\u001b[0;34m(\u001b[0m\u001b[0mnum\u001b[0m\u001b[0;34m,\u001b[0m \u001b[0mint\u001b[0m\u001b[0;34m)\u001b[0m \u001b[0;32mand\u001b[0m \u001b[0misinstance\u001b[0m\u001b[0;34m(\u001b[0m\u001b[0mden\u001b[0m\u001b[0;34m,\u001b[0m \u001b[0mint\u001b[0m\u001b[0;34m)\u001b[0m\u001b[0;34m)\u001b[0m\u001b[0;34m:\u001b[0m\u001b[0;34m\u001b[0m\u001b[0;34m\u001b[0m\u001b[0m\n\u001b[0;32m----> 8\u001b[0;31m             \u001b[0;32mraise\u001b[0m \u001b[0mTypeError\u001b[0m\u001b[0;34m(\u001b[0m\u001b[0;34mf\"`num` and `den` must both be integers, not '{type(num).__name__}' and '{type(den).__name__}'\"\u001b[0m\u001b[0;34m)\u001b[0m\u001b[0;34m\u001b[0m\u001b[0;34m\u001b[0m\u001b[0m\n\u001b[0m\u001b[1;32m      9\u001b[0m         \u001b[0;32mif\u001b[0m \u001b[0mden\u001b[0m \u001b[0;34m==\u001b[0m \u001b[0;36m0\u001b[0m\u001b[0;34m:\u001b[0m\u001b[0;34m\u001b[0m\u001b[0;34m\u001b[0m\u001b[0m\n\u001b[1;32m     10\u001b[0m             \u001b[0;32mraise\u001b[0m \u001b[0mZeroDivisionError\u001b[0m\u001b[0;34m(\u001b[0m\u001b[0;34mf\"`den` must not be 0\"\u001b[0m\u001b[0;34m)\u001b[0m\u001b[0;34m\u001b[0m\u001b[0;34m\u001b[0m\u001b[0m\n",
      "\u001b[0;31mTypeError\u001b[0m: `num` and `den` must both be integers, not 'float' and 'int'"
     ]
    }
   ],
   "source": [
    "# Expected: a TypeError (since `num` is not an integer)\n",
    "Fraction(1.2, 3)"
   ]
  },
  {
   "cell_type": "code",
   "execution_count": 11,
   "id": "threaded-commission",
   "metadata": {},
   "outputs": [
    {
     "ename": "ZeroDivisionError",
     "evalue": "`den` must not be 0",
     "output_type": "error",
     "traceback": [
      "\u001b[0;31m---------------------------------------------------------------------------\u001b[0m",
      "\u001b[0;31mZeroDivisionError\u001b[0m                         Traceback (most recent call last)",
      "\u001b[0;32m<ipython-input-11-2dca4c789bb7>\u001b[0m in \u001b[0;36m<module>\u001b[0;34m\u001b[0m\n\u001b[1;32m      1\u001b[0m \u001b[0;31m# Expected: ZeroDevisionError (since `den` is zero)\u001b[0m\u001b[0;34m\u001b[0m\u001b[0;34m\u001b[0m\u001b[0;34m\u001b[0m\u001b[0m\n\u001b[0;32m----> 2\u001b[0;31m \u001b[0mFraction\u001b[0m\u001b[0;34m(\u001b[0m\u001b[0;36m1\u001b[0m\u001b[0;34m,\u001b[0m \u001b[0;36m0\u001b[0m\u001b[0;34m)\u001b[0m\u001b[0;34m\u001b[0m\u001b[0;34m\u001b[0m\u001b[0m\n\u001b[0m",
      "\u001b[0;32m<ipython-input-9-ac22cf4be4e5>\u001b[0m in \u001b[0;36m__init__\u001b[0;34m(self, num, den)\u001b[0m\n\u001b[1;32m      8\u001b[0m             \u001b[0;32mraise\u001b[0m \u001b[0mTypeError\u001b[0m\u001b[0;34m(\u001b[0m\u001b[0;34mf\"`num` and `den` must both be integers, not '{type(num).__name__}' and '{type(den).__name__}'\"\u001b[0m\u001b[0;34m)\u001b[0m\u001b[0;34m\u001b[0m\u001b[0;34m\u001b[0m\u001b[0m\n\u001b[1;32m      9\u001b[0m         \u001b[0;32mif\u001b[0m \u001b[0mden\u001b[0m \u001b[0;34m==\u001b[0m \u001b[0;36m0\u001b[0m\u001b[0;34m:\u001b[0m\u001b[0;34m\u001b[0m\u001b[0;34m\u001b[0m\u001b[0m\n\u001b[0;32m---> 10\u001b[0;31m             \u001b[0;32mraise\u001b[0m \u001b[0mZeroDivisionError\u001b[0m\u001b[0;34m(\u001b[0m\u001b[0;34mf\"`den` must not be 0\"\u001b[0m\u001b[0;34m)\u001b[0m\u001b[0;34m\u001b[0m\u001b[0;34m\u001b[0m\u001b[0m\n\u001b[0m\u001b[1;32m     11\u001b[0m \u001b[0;34m\u001b[0m\u001b[0m\n\u001b[1;32m     12\u001b[0m         \u001b[0mself\u001b[0m\u001b[0;34m.\u001b[0m\u001b[0mnum\u001b[0m \u001b[0;34m=\u001b[0m \u001b[0mnum\u001b[0m\u001b[0;34m\u001b[0m\u001b[0;34m\u001b[0m\u001b[0m\n",
      "\u001b[0;31mZeroDivisionError\u001b[0m: `den` must not be 0"
     ]
    }
   ],
   "source": [
    "# Expected: ZeroDevisionError (since `den` is zero)\n",
    "Fraction(1, 0)"
   ]
  },
  {
   "cell_type": "code",
   "execution_count": 12,
   "id": "limiting-highlight",
   "metadata": {},
   "outputs": [
    {
     "data": {
      "text/plain": [
       "-1/2 = -0.5"
      ]
     },
     "execution_count": 12,
     "metadata": {},
     "output_type": "execute_result"
    }
   ],
   "source": [
    "# Expected: Fraction -1/2 and not 1/-2\n",
    "Fraction(1, -2)"
   ]
  },
  {
   "cell_type": "markdown",
   "id": "compound-people",
   "metadata": {},
   "source": [
    "---\n",
    "Our problems with wrong input types and values are now solved! We can now move on with implementing operations right?\n",
    "\n",
    "However, a new bug shows up!"
   ]
  },
  {
   "cell_type": "code",
   "execution_count": 13,
   "id": "neural-nightlife",
   "metadata": {},
   "outputs": [],
   "source": [
    "f = Fraction(1, 2)\n",
    "f.num = 3.2\n",
    "f.den = 1.2"
   ]
  },
  {
   "cell_type": "code",
   "execution_count": 14,
   "id": "alike-graphics",
   "metadata": {},
   "outputs": [
    {
     "data": {
      "text/plain": [
       "3.2/1.2 = 2.666666666666667"
      ]
     },
     "execution_count": 14,
     "metadata": {},
     "output_type": "execute_result"
    }
   ],
   "source": [
    "f"
   ]
  },
  {
   "cell_type": "markdown",
   "id": "recovered-defendant",
   "metadata": {},
   "source": [
    "Python allows for attributes to be accessed and changed (there are no private or protected variables here).\n",
    "\n",
    "This means that if the user changes the numerator and denominator later on, the checks that we did in `__init__` are no longer done.\n",
    "\n",
    "How can we solve this? Simple, rename `num` as `_num` and so on. This is a convention that lets people know not to mess with that attribute.\n",
    "\n",
    "But then, the value of `num` is not accessible directly. We could write a method `num()` to return the value of `self._num`?\n",
    "\n",
    "A solution that lets us keep the earlier API (and shows that `num` is a data attribute or a property rather than a method) is to use the `@property` decorator. Complete the class definition below:"
   ]
  },
  {
   "cell_type": "code",
   "execution_count": 15,
   "id": "italian-recipe",
   "metadata": {},
   "outputs": [],
   "source": [
    "class Fraction:\n",
    "    \"\"\"Class to implement fractions\"\"\"\n",
    "    \n",
    "    def __init__(self, num, den):\n",
    "        \"\"\"Initialize instance using numerator and denominator\"\"\"\n",
    "        # Copy your _init__ from above\n",
    "        if not (isinstance(num, int) and isinstance(den, int)):\n",
    "            raise TypeError(f\"`num` and `den` must both be integers, not '{type(num).__name__}' and '{type(den).__name__}'\")\n",
    "        if den == 0:\n",
    "            raise ZeroDivisionError(f\"`den` must not be 0\")\n",
    "        \n",
    "        self._num = num\n",
    "        if den < 0:\n",
    "            self._num = -self.num\n",
    "        self._den = abs(den)\n",
    "        \n",
    "    def decimal(self):\n",
    "        return self.num/self.den\n",
    "    \n",
    "    @property\n",
    "    def num(self):\n",
    "        return self._num\n",
    "    \n",
    "    @property\n",
    "    def den(self):\n",
    "        return self._den\n",
    "\n",
    "    def __repr__(self):\n",
    "        return f\"{self._num}/{self._den} = {self.decimal()}\"   "
   ]
  },
  {
   "cell_type": "code",
   "execution_count": 16,
   "id": "external-acrobat",
   "metadata": {},
   "outputs": [
    {
     "data": {
      "text/plain": [
       "(1, 2)"
      ]
     },
     "execution_count": 16,
     "metadata": {},
     "output_type": "execute_result"
    }
   ],
   "source": [
    "f = Fraction(1, 2)\n",
    "f.num, f.den"
   ]
  },
  {
   "cell_type": "code",
   "execution_count": 17,
   "id": "social-classic",
   "metadata": {},
   "outputs": [
    {
     "ename": "AttributeError",
     "evalue": "can't set attribute",
     "output_type": "error",
     "traceback": [
      "\u001b[0;31m---------------------------------------------------------------------------\u001b[0m",
      "\u001b[0;31mAttributeError\u001b[0m                            Traceback (most recent call last)",
      "\u001b[0;32m<ipython-input-17-386264513561>\u001b[0m in \u001b[0;36m<module>\u001b[0;34m\u001b[0m\n\u001b[0;32m----> 1\u001b[0;31m \u001b[0mf\u001b[0m\u001b[0;34m.\u001b[0m\u001b[0mnum\u001b[0m \u001b[0;34m=\u001b[0m \u001b[0;36m2\u001b[0m\u001b[0;34m\u001b[0m\u001b[0;34m\u001b[0m\u001b[0m\n\u001b[0m",
      "\u001b[0;31mAttributeError\u001b[0m: can't set attribute"
     ]
    }
   ],
   "source": [
    "f.num = 2"
   ]
  },
  {
   "cell_type": "code",
   "execution_count": 18,
   "id": "greek-standard",
   "metadata": {},
   "outputs": [
    {
     "data": {
      "text/plain": [
       "1/2 = 0.5"
      ]
     },
     "execution_count": 18,
     "metadata": {},
     "output_type": "execute_result"
    }
   ],
   "source": [
    "f"
   ]
  },
  {
   "cell_type": "markdown",
   "id": "cognitive-monroe",
   "metadata": {},
   "source": [
    "---\n",
    "This solves our problem of worrying about the user breaking our code. However, keep in mind that if they want to, they still can (change `f._num` instead in the cell above)\n",
    "\n",
    "\n",
    "Note how this varies somewhat from the `C++ Way of Doing Things`<sup>TM</sup>, where you might write a `get_num()` method to get the value and a `set_num()` method to set the value (if you wish to implement such a feature).\n",
    "\n",
    "The idiomatic way to do it in Python is to use `@property` and `@property.setter`. Again, we show the process for `num`. Complete the code for `den` to make `Fraction` a mutable, consistent container for fractions."
   ]
  },
  {
   "cell_type": "code",
   "execution_count": 19,
   "id": "mobile-audio",
   "metadata": {},
   "outputs": [],
   "source": [
    "class Fraction:\n",
    "    \"\"\"Class to implement fractions\"\"\"\n",
    "    \n",
    "    def __init__(self, num, den):\n",
    "        \"\"\"Initialize instance using numerator and denominator\"\"\"\n",
    "        # Copy __init__ from above\n",
    "        if not (isinstance(num, int) and isinstance(den, int)):\n",
    "            raise TypeError(f\"`num` and `den` must both be integers, not '{type(num).__name__}' and '{type(den).__name__}'\")\n",
    "        if den == 0:\n",
    "            raise ZeroDivisionError(f\"`den` must not be 0\")\n",
    "        \n",
    "        self._num = num\n",
    "        if den < 0:\n",
    "            self._num = -self.num\n",
    "        self._den = abs(den)\n",
    "\n",
    "    def decimal(self):\n",
    "        return self.num/self.den\n",
    "    \n",
    "    @property\n",
    "    def num(self):\n",
    "        return self._num\n",
    "    \n",
    "    @num.setter\n",
    "    def num(self, value):\n",
    "        if isinstance(value, int):\n",
    "            self._num = value\n",
    "        else:\n",
    "            raise TypeError(f\"`num` must be of type 'int', not '{type(value).__name__}'\")\n",
    "    \n",
    "    # Put in @property and @property.setter for den as well\n",
    "    @property\n",
    "    def den(self):\n",
    "        return self._den\n",
    "    \n",
    "    @den.setter\n",
    "    def den(self, value):\n",
    "        if not isinstance(value, int):\n",
    "            raise TypeError(f\"`den` must be of type 'int', not '{type(value).__name__}'\")\n",
    "        elif value == 0:\n",
    "            raise ZeroDivisionError(f\"`den` must not be 0\")\n",
    "        else:\n",
    "            self._den = abs(value)\n",
    "            if value < 0:\n",
    "                self._num = -self._num\n",
    "                \n",
    "    def __repr__(self):\n",
    "        return f\"{self._num}/{self._den} = {self.decimal()}\""
   ]
  },
  {
   "cell_type": "code",
   "execution_count": 20,
   "id": "solved-diesel",
   "metadata": {},
   "outputs": [],
   "source": [
    "f = Fraction(1, 2)"
   ]
  },
  {
   "cell_type": "code",
   "execution_count": 21,
   "id": "posted-wisconsin",
   "metadata": {},
   "outputs": [],
   "source": [
    "f.num = 2\n",
    "f.den = -1"
   ]
  },
  {
   "cell_type": "code",
   "execution_count": 22,
   "id": "middle-century",
   "metadata": {},
   "outputs": [
    {
     "data": {
      "text/plain": [
       "-2/1 = -2.0"
      ]
     },
     "execution_count": 22,
     "metadata": {},
     "output_type": "execute_result"
    }
   ],
   "source": [
    "f"
   ]
  },
  {
   "cell_type": "markdown",
   "id": "enabling-consortium",
   "metadata": {},
   "source": [
    "---\n",
    "At this point, we have a class `Fraction` which does has all the checks we wanted it to have, is mutable and remains consistent at all times.\n",
    "\n",
    "Let us take the plunge and add more features"
   ]
  },
  {
   "cell_type": "markdown",
   "id": "threaded-toyota",
   "metadata": {},
   "source": [
    "## Feature Request\n",
    "Implement the following features into the class `Fraction`\n",
    "1. A method to get the simplest form of a fraction (2/4 --> 1/2)\n",
    "2. Modify `Fraction.decimal()` to take an optional argument `fmt`, which if provided returns a formatted string with the given format. For example:\n",
    "\n",
    "                                            f = Fraction(1, 3)\n",
    "                                            print(f.decimal())\n",
    "                                            # Out: 0.3333333333333333\n",
    "                                            \n",
    "                                            print(f.decimal('4.2f'))\n",
    "                                            # Out: 0.33\n",
    "                                            \n",
    "                                            print(f.decimal('.2e')\n",
    "                                            # Out: 3.33e-01\n",
    "3. Define the `abs` of a `Fraction`\n",
    "4. Make the `repr` a bit more expressive: include the class name. When someone prints an instance of `Fraction`, only show the `num`/`den` form. On the interactive console, this should look something like:\n",
    "\n",
    "                                            In : f = Fraction(-2, 4)\n",
    "\n",
    "                                            In : f\n",
    "                                            Out: Fraction: -2/4 = -0.5\n",
    "\n",
    "                                            In : print(f)\n",
    "                                            -2/4\n",
    "\n",
    "(Hint: Look up the dunder method `__str__` and how it differs from `__repr__`)"
   ]
  },
  {
   "cell_type": "code",
   "execution_count": 23,
   "id": "posted-upper",
   "metadata": {},
   "outputs": [],
   "source": [
    "from math import gcd"
   ]
  },
  {
   "cell_type": "code",
   "execution_count": 24,
   "id": "caring-driver",
   "metadata": {},
   "outputs": [],
   "source": [
    "class Fraction:\n",
    "    \"\"\"Class to implement fractions\"\"\"\n",
    "    \n",
    "    def __init__(self, num, den):\n",
    "        \"\"\"Initialize instance using numerator and denominator\"\"\"\n",
    "        # You know what to do here.\n",
    "        if not (isinstance(num, int) and isinstance(den, int)):\n",
    "            raise TypeError(f\"`num` and `den` must both be integers, not '{type(num).__name__}' and '{type(den).__name__}'\")\n",
    "        if den == 0:\n",
    "            raise ZeroDivisionError(f\"`den` must not be 0\")\n",
    "        \n",
    "        self._num = num\n",
    "        if den < 0:\n",
    "            self._num = -self.num\n",
    "        self._den = abs(den)\n",
    "\n",
    "    def decimal(self, fmt=None):\n",
    "        \"\"\"Format the decimal output according to fmt and return a string. If not passed, return a float.\"\"\"\n",
    "        # You can maybe try to use `if fmt is None:`\n",
    "        if fmt is None:\n",
    "            return self.num/self.den\n",
    "        else:\n",
    "            return f\"{self.num/self.den:{fmt}}\"\n",
    "        \n",
    "    def simple(self):\n",
    "        \"\"\"Return a Fraction instance with num and den in simplest form\"\"\"\n",
    "        factor = gcd(self.num, self.den)\n",
    "        return self.__class__(self.num//factor, self.den//factor)\n",
    "    @property\n",
    "    def num(self):\n",
    "        return self._num\n",
    "    \n",
    "    @num.setter\n",
    "    def num(self, value):\n",
    "        if isinstance(value, int):\n",
    "            self._num = value\n",
    "        else:\n",
    "            raise TypeError(f\"`num` must be of type 'int', not '{type(value).__name__}'\")\n",
    "    \n",
    "    @property\n",
    "    def den(self):\n",
    "        return self._den\n",
    "    \n",
    "    @den.setter\n",
    "    def den(self, value):\n",
    "        if not isinstance(value, int):\n",
    "            raise TypeError(f\"`den` must be of type 'int', not '{type(value).__name__}'\")\n",
    "        elif value == 0:\n",
    "            raise ZeroDivisionError(f\"`den` must not be 0\")\n",
    "        else:\n",
    "            self._den = abs(value)\n",
    "            if value < 0:\n",
    "                self._num = -self._num\n",
    "                \n",
    "    def __repr__(self):\n",
    "        return f\"{self.__class__.__name__}: {self._num}/{self._den} = {self.decimal()}\"\n",
    "    \n",
    "    def __str__(self):\n",
    "        return f\"{self._num}/{self._den}\"\n",
    "\n",
    "    def __abs__(self):\n",
    "        return self.__class__(abs(self.num), self.den)"
   ]
  },
  {
   "cell_type": "code",
   "execution_count": 25,
   "id": "fuzzy-marina",
   "metadata": {},
   "outputs": [],
   "source": [
    "f = Fraction(-2, 4)"
   ]
  },
  {
   "cell_type": "code",
   "execution_count": 26,
   "id": "traditional-gospel",
   "metadata": {},
   "outputs": [
    {
     "data": {
      "text/plain": [
       "Fraction: -2/4 = -0.5"
      ]
     },
     "execution_count": 26,
     "metadata": {},
     "output_type": "execute_result"
    }
   ],
   "source": [
    "f"
   ]
  },
  {
   "cell_type": "code",
   "execution_count": 27,
   "id": "expanded-release",
   "metadata": {},
   "outputs": [
    {
     "name": "stdout",
     "output_type": "stream",
     "text": [
      "-2/4\n"
     ]
    }
   ],
   "source": [
    "print(f)"
   ]
  },
  {
   "cell_type": "code",
   "execution_count": 28,
   "id": "active-piece",
   "metadata": {},
   "outputs": [
    {
     "data": {
      "text/plain": [
       "Fraction: -1/2 = -0.5"
      ]
     },
     "execution_count": 28,
     "metadata": {},
     "output_type": "execute_result"
    }
   ],
   "source": [
    "f.simple()"
   ]
  },
  {
   "cell_type": "code",
   "execution_count": 29,
   "id": "selective-organ",
   "metadata": {},
   "outputs": [
    {
     "data": {
      "text/plain": [
       "'-0.500'"
      ]
     },
     "execution_count": 29,
     "metadata": {},
     "output_type": "execute_result"
    }
   ],
   "source": [
    "f.decimal('0.3f')"
   ]
  },
  {
   "cell_type": "code",
   "execution_count": 30,
   "id": "innovative-astronomy",
   "metadata": {},
   "outputs": [
    {
     "data": {
      "text/plain": [
       "Fraction: 2/4 = 0.5"
      ]
     },
     "execution_count": 30,
     "metadata": {},
     "output_type": "execute_result"
    }
   ],
   "source": [
    "abs(f)"
   ]
  },
  {
   "cell_type": "markdown",
   "id": "coral-coordination",
   "metadata": {},
   "source": [
    "---\n",
    "## Feature Request\n",
    "Implement the following features into the class `Fraction`\n",
    "1. The operations for addition, subtraction, multiplication, and division (as per the usual definitions for fractions). Return an instance of `Fraction` with the numerator and denominator in the simplest form. \n",
    "2. Define the relational operators (`==`, `>`, `<`, `>=`, `<=`, `!=`) for fractions.\n",
    "\n",
    "\n",
    "3. Make all the above operations compatible with normal numbers (`int` and `float` data types) as well. Use the test case\n",
    "\n",
    "                                        Fraction(4, 100) == 0.16 - 0.12"
   ]
  },
  {
   "cell_type": "code",
   "execution_count": 31,
   "id": "respiratory-divide",
   "metadata": {},
   "outputs": [],
   "source": [
    "from math import gcd, isclose"
   ]
  },
  {
   "cell_type": "code",
   "execution_count": 32,
   "id": "loving-premiere",
   "metadata": {},
   "outputs": [],
   "source": [
    "# Copy the class definition from above and add __dunder__ methods to do all these things.\n",
    "# If you do not implement the compatibility with `float`, \n",
    "# then raise an exception, so that the user knows not to do it.\n",
    "\n",
    "\n",
    "class Fraction:\n",
    "    \"\"\"Class to implement fractions\"\"\"\n",
    "    \n",
    "    def __init__(self, num, den):\n",
    "        \"\"\"Initialize instance using numerator and denominator\"\"\"\n",
    "        if not (isinstance(num, int) and isinstance(den, int)):\n",
    "            raise TypeError(f\"`num` and `den` must both be integers, not '{type(num).__name__}' and '{type(den).__name__}'\")\n",
    "        if den == 0:\n",
    "            raise ZeroDivisionError(f\"`den` must not be 0\")\n",
    "        \n",
    "        self._num = num\n",
    "        if den < 0:\n",
    "            self._num = -self.num\n",
    "        self._den = abs(den)\n",
    "    \n",
    "    def decimal(self, fmt=None):\n",
    "        if fmt is None:\n",
    "            return self.num/self.den\n",
    "        else:\n",
    "            return f\"{self.num/self.den:{fmt}}\"\n",
    "    \n",
    "    def simple(self):\n",
    "        factor = gcd(self.num, self.den)\n",
    "        return self.__class__(self.num//factor, self.den//factor)\n",
    "    \n",
    "    @property\n",
    "    def num(self):\n",
    "        return self._num\n",
    "    \n",
    "    @num.setter\n",
    "    def num(self, value):\n",
    "        if isinstance(value, int):\n",
    "            self._num = value\n",
    "        else:\n",
    "            raise TypeError(f\"`num` must be of type 'int', not '{type(value).__name__}'\")\n",
    "    \n",
    "    @property\n",
    "    def den(self):\n",
    "        return self._den\n",
    "    \n",
    "    @den.setter\n",
    "    def den(self, value):\n",
    "        if not isinstance(value, int):\n",
    "            raise TypeError(f\"`den` must be of type 'int', not '{type(value).__name__}'\")\n",
    "        elif value == 0:\n",
    "            raise ZeroDivisionError(f\"`den` must not be 0\")\n",
    "        else:\n",
    "            self._den = abs(value)\n",
    "            if value < 0:\n",
    "                self._num = -self._num\n",
    "                \n",
    "    def __repr__(self):\n",
    "        return f\"{self.__class__.__name__}: {self._num}/{self._den} = {self.decimal()}\"\n",
    "    \n",
    "    def __str__(self):\n",
    "        return f\"{self._num}/{self._den}\"\n",
    "\n",
    "    def __abs__(self):\n",
    "        return self.__class__(abs(self.num), self.den)\n",
    "    \n",
    "    def __eq__(self, other):\n",
    "        if isinstance(other, self.__class__):\n",
    "            return self.num * other.den == other.num  * self.den\n",
    "        elif isinstance(other, (int, float)):\n",
    "            return isclose(self.decimal(), other)\n",
    "\n",
    "    def __lt__(self, other):\n",
    "        if isinstance(other, self.__class__):\n",
    "            return self.num * other.den < other.num * self.den\n",
    "        elif isinstance(other, (int, float)):\n",
    "            return self.decimal() < other and not self == other\n",
    "    \n",
    "    def __gt__(self, other):\n",
    "        if isinstance(other, self.__class__):\n",
    "            return self.num * other.den > other.num * self.den\n",
    "        elif isinstance(other, (int, float)):\n",
    "            return self.decimal() > other and not self == other\n",
    "\n",
    "    def __le__(self, other):\n",
    "        if isinstance(other, self.__class__):\n",
    "            return self.num * other.den <= other.num * self.den\n",
    "        elif isinstance(other, (int, float)):\n",
    "            return self.decimal() <= other or self == other\n",
    "    \n",
    "    def __ge__(self, other):\n",
    "        if isinstance(other, self.__class__):\n",
    "            return self.num * other.den >= other.num * self.den\n",
    "        elif isinstance(other, (int, float)):\n",
    "            return self.decimal() >= other or self == other\n",
    "        \n",
    "    def __add__(self, other):\n",
    "        if isinstance(other, self.__class__):\n",
    "            num = self.num * other.den + other.num * self.den\n",
    "            den = self.den * other.den\n",
    "            return self.__class__(num, den).simple()\n",
    "        elif isinstance(other, int):\n",
    "            return self.__class__(self.num + other * self.den, self.den).simple()\n",
    "\n",
    "    def __sub__(self, other):\n",
    "        if isinstance(other, self.__class__):\n",
    "            num = self.num * other.den - other.num * self.den\n",
    "            den = self.den * other.den\n",
    "            return self.__class__(num, den).simple()\n",
    "        elif isinstance(other, int):\n",
    "            return self.__class__(self.num - other * self.den, self.den).simple()            \n",
    "\n",
    "    def __mul__(self, other):\n",
    "        if isinstance(other, self.__class__):\n",
    "            num = self.num * other.num\n",
    "            den = other.den * self.den\n",
    "            return self.__class__(num, den).simple()\n",
    "        elif isinstance(other, int):\n",
    "            return self.__class__(self.num * other, self.den).simple()\n",
    "\n",
    "    def __truediv__(self, other):\n",
    "        if isinstance(other, self.__class__):\n",
    "            num = self.num * other.den\n",
    "            den = other.num * self.den\n",
    "            return self.__class__(num, den).simple()\n",
    "        elif isinstance(other, int):\n",
    "            return self.__class__(self.num, self.den * other).simple()\n",
    "    "
   ]
  },
  {
   "cell_type": "code",
   "execution_count": 33,
   "id": "classical-conversation",
   "metadata": {},
   "outputs": [],
   "source": [
    "f1 = Fraction(1, 2)\n",
    "f2 = Fraction(5, 6)"
   ]
  },
  {
   "cell_type": "code",
   "execution_count": 34,
   "id": "aggressive-farmer",
   "metadata": {},
   "outputs": [
    {
     "data": {
      "text/plain": [
       "Fraction: 4/3 = 1.3333333333333333"
      ]
     },
     "execution_count": 34,
     "metadata": {},
     "output_type": "execute_result"
    }
   ],
   "source": [
    "f1 + f2"
   ]
  },
  {
   "cell_type": "markdown",
   "id": "provincial-sound",
   "metadata": {},
   "source": [
    "---\n",
    "## Feature Request\n",
    "Alternative constructors (good time to remember what you saw in that YouTube video)\n",
    "1. Add support for mixed fractions. Figure out how you want to implement this yourself.\n",
    "\n",
    "2. Make alternative constructors for `Fraction`. Implement the following ways of making a `Fraction` instance:\n",
    "\n",
    "                                Fraction.from_string(\"1/2\")  # This should be equivalent to Fraction(1, 2)\n",
    "                                Fraction.from_tuple((2))  # Fraction(2, 1)\n",
    "                                Fraction.from_tuple((2, 3))  # Fraction(2, 3)\n",
    "                                Fraction.from_tuple((1, 2, 3))  # Fraction(5, 3): a mixed fraction\n",
    "                                Fraction.from_dict(dict(num=2, den=3))  # Fraction(2, 3)"
   ]
  },
  {
   "cell_type": "markdown",
   "id": "weighted-synthetic",
   "metadata": {},
   "source": [
    "# Concluding Notes\n",
    "\n",
    "We hope you guys had fun writing out this class. Have a look at the `fractions` library to see how much of its functionality you have replicated in this tutorial, and how you can improve it.\n",
    "\n",
    "On Friday afternoon (Jun 4), we will release Part B of the tutorial. Good luck!"
   ]
  },
  {
   "cell_type": "markdown",
   "id": "female-struggle",
   "metadata": {},
   "source": [
    "                                                __fin__\n",
    "                                                \n",
    "---"
   ]
  }
 ],
 "metadata": {
  "kernelspec": {
   "display_name": "Python 3",
   "language": "python",
   "name": "python3"
  },
  "language_info": {
   "codemirror_mode": {
    "name": "ipython",
    "version": 3
   },
   "file_extension": ".py",
   "mimetype": "text/x-python",
   "name": "python",
   "nbconvert_exporter": "python",
   "pygments_lexer": "ipython3",
   "version": "3.8.5"
  }
 },
 "nbformat": 4,
 "nbformat_minor": 5
}
