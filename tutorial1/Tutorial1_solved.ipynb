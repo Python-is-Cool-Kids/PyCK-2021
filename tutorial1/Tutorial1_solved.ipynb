{
 "cells": [
  {
   "cell_type": "markdown",
   "metadata": {
    "id": "1kzoWuuSwxXT"
   },
   "source": [
    "# Welcome to Tutorial 1!\n",
    "\n",
    "In this tutorial, we will try to make use of the basic concepts in Python taught during Week 1 and get comfortable with them!\n",
    "\n",
    "Let's get started!"
   ]
  },
  {
   "cell_type": "markdown",
   "metadata": {
    "id": "NtbUu2bxpwgQ"
   },
   "source": [
    "---\n",
    "## 1. The Invitation\n",
    "<!-- <b style='color:red'>Keywords: </b> String Manipulation, I/O, String Formatting -->\n",
    "\n",
    "The lead tutor for PyCK is facing trouble in sending a warm invite to all of the enthusiastic Pythonistas during onboarding.\n",
    "\n",
    "The names of the students are in a file named `participants.csv`, where the first column is the full name of the participant ('first_name last_name') and the second column is the email id. What you must do is print a string in the following format for each participant\n",
    "\n",
    "                                Hello <LAST_NAME>, <first_name>! Your username is <user_name>\n",
    "                                \n",
    "For example, for the first participant in the file, you will print: `Hello AGAL, Aryan! Your username is aryanagal20`.\n",
    "\n",
    "<b style='color:red'>Bonus: </b> Print the welcome text for each participant in alphabetical order by their last names\n",
    "\n",
    "<b style='color:red'>Note: </b> These are not our real email IDs. Please do not spam an innocent user."
   ]
  },
  {
   "cell_type": "code",
   "execution_count": 1,
   "metadata": {
    "id": "RmUnquqWkobV"
   },
   "outputs": [],
   "source": [
    "# This is how you can read the contents of a file as a string\n",
    "with open(\"participants.csv\", \"r\") as f:\n",
    "    lines = f.read().strip().split(\"\\n\")"
   ]
  },
  {
   "cell_type": "code",
   "execution_count": 2,
   "metadata": {
    "id": "0CjjsHv4rJLU"
   },
   "outputs": [],
   "source": [
    "def format_welcome(line):\n",
    "    name, email = line.split(\", \")\n",
    "    first_name, last_name = name.split()\n",
    "    username = email.split(\"@\")[0]\n",
    "    return f'Hello {last_name.upper()}, {first_name}! Your username is {username}'"
   ]
  },
  {
   "cell_type": "code",
   "execution_count": 3,
   "metadata": {},
   "outputs": [
    {
     "name": "stdout",
     "output_type": "stream",
     "text": [
      "Hello AGAL, Aryan! Your username is aryanagal20\n",
      "Hello ANGLE, Abhishek! Your username is abhishekangle00\n",
      "Hello ARYA, Rishabh! Your username is rishabharya09\n",
      "Hello AWALE, Chinmay! Your username is chinubeta67\n",
      "Hello BARNWAL, Tejal! Your username is tejalbarnwal77\n",
      "Hello CHOUDHARY, Payal! Your username is choudharypayal37\n",
      "Hello DAHIYA, Liza! Your username is lizadahiya92\n",
      "Hello DESAI, Dev! Your username is devmoxaj71\n",
      "Hello GUPTA, Harshit! Your username is mailharshit35\n",
      "Hello IYENGAR, Aditya! Your username is theai62\n",
      "Hello JAIN, Eeshaan! Your username is jaineeshaan54\n",
      "Hello KAMRA, Divyanshi! Your username is divyanshikamra87\n",
      "Hello KUMAR, Tushar! Your username is tusharkumarg12\n",
      "Hello LOHIYA, Shubham! Your username is shubhlohiya24\n",
      "Hello OJHA, Shubham! Your username is shubhamojha98\n",
      "Hello PATEL, Latika! Your username is latikapatel60\n",
      "Hello PATIL, Parth! Your username is parthvin97\n",
      "Hello SABU, Aaron! Your username is aaronjohnsabu13\n",
      "Hello SHEHMAR, Dikshant! Your username is dikshanthsr17\n",
      "Hello SHENOY, Vedant! Your username is vedantshenoy48\n",
      "Hello SINGH, Shruti! Your username is shrutis57\n"
     ]
    }
   ],
   "source": [
    "welcome_msgs = sorted([format_welcome(line) for line in lines])\n",
    "# for msg in welcome_msgs: # Naive way\n",
    "#     print(msg)\n",
    "print(*welcome_msgs, sep=\"\\n\") # More Pythonic ;) Use the unpacking operatordd"
   ]
  },
  {
   "cell_type": "markdown",
   "metadata": {
    "id": "VIh5f74jmypZ"
   },
   "source": [
    "---\n",
    "## 2. Overacheiving Freshers\n",
    "Given below are two lists containing IDs of students in a physics and chemistry lab. Find the IDs of all students attending both labs and the IDs of students attending only one lab.\n",
    "\n",
    "<b style='color:red'>Bonus: </b> If there are 50 students with IDs 1 to 50, then find the IDs of the students who are not attending either lab."
   ]
  },
  {
   "cell_type": "code",
   "execution_count": 4,
   "metadata": {
    "id": "gu5ak7dAknD3"
   },
   "outputs": [],
   "source": [
    "id_phy = [3, 5, 6, 7, 8, 9, 11, 12, 16, 17, 18, 19, 21, 24, 25, 26, 28, 35, 38, 39, 40, 41, 42, 43, 47, 48, 50]\n",
    "id_chem = [1, 4, 5, 8, 9, 11, 16, 19, 21, 23, 24, 25, 27, 28, 29, 31, 32, 33, 36, 37, 38, 41, 43, 45, 47, 51]\n",
    "ids = list(range(1,51))"
   ]
  },
  {
   "cell_type": "markdown",
   "metadata": {},
   "source": [
    "#### Method 1: List comprehensions"
   ]
  },
  {
   "cell_type": "code",
   "execution_count": 5,
   "metadata": {},
   "outputs": [],
   "source": [
    "def both_labs(id_phy, id_chem):\n",
    "    return [item for item in id_phy if item in id_chem]\n",
    "\n",
    "def only_phy_lab(id_phy, id_chem):\n",
    "    return [item for item in id_phy if item not in id_chem]\n",
    "\n",
    "def only_chem_lab(id_phy, id_chem):\n",
    "    return [item for item in id_chem if item not in id_phy]\n",
    "\n",
    "def neither(id_phy, id_chem, ids):\n",
    "    return [item for item in ids if item not in id_phy if item not in id_chem]"
   ]
  },
  {
   "cell_type": "markdown",
   "metadata": {},
   "source": [
    "#### Method 2: Sets \n",
    "\n",
    "(faster and more efficient)"
   ]
  },
  {
   "cell_type": "code",
   "execution_count": 6,
   "metadata": {},
   "outputs": [],
   "source": [
    "def both_labs(id_phy, id_chem):\n",
    "    return list(set(id_phy) & set(id_chem))\n",
    "\n",
    "def only_phy_lab(id_phy, id_chem):\n",
    "    return list(set(id_phy) - set(id_chem))\n",
    "\n",
    "def only_chem_lab(id_phy, id_chem):\n",
    "    return list(set(id_chem) - set(id_phy))\n",
    "\n",
    "def neither(id_phy, id_chem, ids):\n",
    "    return list(set(ids) - (set(id_phy) | set(id_chem)))"
   ]
  },
  {
   "cell_type": "code",
   "execution_count": 7,
   "metadata": {},
   "outputs": [
    {
     "name": "stdout",
     "output_type": "stream",
     "text": [
      "Students attending both labs:\n",
      "[5, 38, 8, 9, 41, 11, 43, 47, 16, 19, 21, 24, 25, 28]\n"
     ]
    }
   ],
   "source": [
    "print(\"Students attending both labs:\", both_labs(id_phy, id_chem), sep=\"\\n\")"
   ]
  },
  {
   "cell_type": "code",
   "execution_count": 8,
   "metadata": {},
   "outputs": [
    {
     "name": "stdout",
     "output_type": "stream",
     "text": [
      "Students attending only Phy lab:\n",
      "[3, 35, 6, 7, 39, 40, 42, 12, 48, 17, 18, 50, 26]\n"
     ]
    }
   ],
   "source": [
    "print(\"Students attending only Phy lab:\", only_phy_lab(id_phy, id_chem), sep=\"\\n\")"
   ]
  },
  {
   "cell_type": "code",
   "execution_count": 9,
   "metadata": {},
   "outputs": [
    {
     "name": "stdout",
     "output_type": "stream",
     "text": [
      "Students attending only Chem lab:\n",
      "[32, 1, 33, 4, 36, 37, 45, 51, 23, 27, 29, 31]\n"
     ]
    }
   ],
   "source": [
    "print(\"Students attending only Chem lab:\", only_chem_lab(id_phy, id_chem), sep=\"\\n\")"
   ]
  },
  {
   "cell_type": "code",
   "execution_count": 10,
   "metadata": {},
   "outputs": [
    {
     "name": "stdout",
     "output_type": "stream",
     "text": [
      "Students attending neither lab:\n",
      "[2, 34, 10, 44, 13, 14, 15, 46, 49, 20, 22, 30]\n"
     ]
    }
   ],
   "source": [
    "print(\"Students attending neither lab:\", neither(id_phy, id_chem, ids), sep=\"\\n\")"
   ]
  },
  {
   "cell_type": "markdown",
   "metadata": {
    "id": "d9cyvP7Oxnjq"
   },
   "source": [
    "---\n",
    "## 3. Your Digital Back of the Book Index\n",
    "Several books and (long) articles tend to have an index at the end, where you get a list of words and corresponding page numbers. When looking for a specific word, this is your best bet to find the related content quickly.\n",
    "\n",
    "Inverted indexing is an important concept used to store contents of documents, files etc in a format that makes searching through them easier. It is implemented by almost all search engines to improve your search experience. The idea is to store a mapping of each word with the index/filename of the document containing that word. \n",
    "\n",
    "In this problem statement, we will try to implement a simple inverted indexing scheme.\n",
    "\n",
    "The input will be a list of words, for example\n",
    "\n",
    "                     list_of_words = ['Hey', 'this', 'this', 'sample', 'Hey' ]\n",
    "\n",
    "Print a mapping between all unique words and the list of indices at which they occur in the input list like\n",
    "\n",
    "                Hey : [0, 4] \n",
    "                this : [1, 2]\n",
    "                sample : [3]\n",
    "\n",
    "\n"
   ]
  },
  {
   "cell_type": "markdown",
   "metadata": {},
   "source": [
    "#### Method 1"
   ]
  },
  {
   "cell_type": "code",
   "execution_count": 11,
   "metadata": {},
   "outputs": [],
   "source": [
    "def make_index(list_):\n",
    "    \"\"\"Return the indices of each element given a list `list_`\"\"\"\n",
    "    index = dict()\n",
    "    for i, item in enumerate(list_):\n",
    "        if item not in index:\n",
    "            index[item] = [i]\n",
    "        else:\n",
    "            index[item].append(i)\n",
    "    return index"
   ]
  },
  {
   "cell_type": "markdown",
   "metadata": {},
   "source": [
    "#### Method 2: Use `setdefault` method"
   ]
  },
  {
   "cell_type": "code",
   "execution_count": 12,
   "metadata": {
    "id": "31QnEDtV5obK"
   },
   "outputs": [],
   "source": [
    "# Complete the program below\n",
    "def make_index(list_):\n",
    "    \"\"\"Return the indices of each element given a list `list_`\"\"\"\n",
    "    index = dict()\n",
    "    for i, item in enumerate(list_):\n",
    "        index.setdefault(item, []).append(i)\n",
    "    return index"
   ]
  },
  {
   "cell_type": "code",
   "execution_count": 13,
   "metadata": {
    "id": "TAX6OhQPNqvZ"
   },
   "outputs": [],
   "source": [
    "input_list = [ 'Index' , 'Match' , 'Google' , 'PageRank' , 'Index' , 'Google' , 'Algorithm' , 'Google' , 'Algorithm']"
   ]
  },
  {
   "cell_type": "code",
   "execution_count": 14,
   "metadata": {
    "id": "TAX6OhQPNqvZ"
   },
   "outputs": [
    {
     "data": {
      "text/plain": [
       "{'Index': [0, 4],\n",
       " 'Match': [1],\n",
       " 'Google': [2, 5, 7],\n",
       " 'PageRank': [3],\n",
       " 'Algorithm': [6, 8]}"
      ]
     },
     "execution_count": 14,
     "metadata": {},
     "output_type": "execute_result"
    }
   ],
   "source": [
    "make_index(input_list)"
   ]
  },
  {
   "cell_type": "markdown",
   "metadata": {
    "id": "Dw04ZBO3Sk4o"
   },
   "source": [
    "---\n",
    "## 4. COVID-20?\n",
    "\n",
    "*This question was made last year under [WnCC's Learner's Space](https://github.com/wncc/learners-space/blob/master/Python/Week%201/Week1-Assignment.ipynb) program. While we are sad about the fact that we still have to follow the social distaning norms, it sure is a good question for you all to try!*\n",
    "\n",
    "---\n",
    "\n",
    "Due to the COVID-19 pandemic, people have been advised to stay at least 6 feet away from any other person. Your job is to check whether people queueing up outside a shop are following social distancing norms.\n",
    "\n",
    "There are a total of N spots (1 through N) where people can stand in front of the local shop. The distance between each pair of adjacent spots is 1 foot. Each spot may be either empty or occupied.\n",
    "\n",
    "You are given a sequence (A1, A2, …, AN), where for each valid i, Ai=0 means that the i-th spot is empty, while Ai=1 means that there is a person standing at this spot. It is guaranteed that the queue is not completely empty.\n",
    "\n",
    "For example, if N=11 and the sequence A is `(0,1,0,0,0,0,0,1,0,0,1)`, then in this queue, people are not following social distancing, since there are two people at a distance of just 3 feet from each other.\n",
    "\n",
    "Write a function that takes a single argument: the input queue, in the form of a dictionary where each spot (from 1 to some N) has a value (0 or 1)\n",
    "\n",
    "The above sequence would be:\n",
    "\n",
    "        {'1' : 0, '2' : 1, '3' : 0, '4' : 0, '5' : 0,\n",
    "         '6' : 0, '7' : 0, '8' : 1, '9' : 0, '10' : 0, '11' : 1}\n",
    "\n",
    "For each test case, print `Yes` if social distancing is being followed or `No` otherwise."
   ]
  },
  {
   "cell_type": "markdown",
   "metadata": {},
   "source": [
    "#### Method 1"
   ]
  },
  {
   "cell_type": "code",
   "execution_count": 15,
   "metadata": {},
   "outputs": [],
   "source": [
    "# Complete the program below\n",
    "def social_dist(queue):\n",
    "    l = [int(s) for s, x in queue.items() if x==1]\n",
    "    safe = True\n",
    "    for i in range(1, len(l)):\n",
    "        if l[i]-l[i-1] < 6:\n",
    "            safe = False\n",
    "            break    \n",
    "    print(\"Yes\" if safe else \"No\")"
   ]
  },
  {
   "cell_type": "markdown",
   "metadata": {},
   "source": [
    "#### Method 2 (more algorithmic)"
   ]
  },
  {
   "cell_type": "code",
   "execution_count": 16,
   "metadata": {
    "id": "xYm-eKoqTNn9"
   },
   "outputs": [],
   "source": [
    "# Complete the program below\n",
    "def social_dist(queue):\n",
    "    temp = min(6, len(queue))\n",
    "    vals = list(queue.values())\n",
    "    for i in range(len(queue)-temp+1):\n",
    "        if sum(vals[i:i+temp])>1:\n",
    "            print(\"No\")\n",
    "            return\n",
    "    print(\"Yes\")"
   ]
  },
  {
   "cell_type": "code",
   "execution_count": 17,
   "metadata": {
    "id": "9KYhWGyOTSFo"
   },
   "outputs": [
    {
     "name": "stdout",
     "output_type": "stream",
     "text": [
      "No\n",
      "Yes\n"
     ]
    }
   ],
   "source": [
    "#do not change this code\n",
    "queue1 = {'1':1, '2':0, '3':0, '4':0, '5':1}\n",
    "social_dist(queue1)\n",
    "\n",
    "queue2 = {'1':0, '2':0, '3':1, '4':0, '5':0, '6':0, '7':0, '8':0, '9':1, '10':0}\n",
    "social_dist(queue2)"
   ]
  },
  {
   "cell_type": "markdown",
   "metadata": {
    "id": "479uVn9YTUPG"
   },
   "source": [
    "Expected output:\n",
    "\n",
    "        No\n",
    "        Yes"
   ]
  },
  {
   "cell_type": "markdown",
   "metadata": {
    "id": "D0n1pvdRUNv4"
   },
   "source": [
    "---\n",
    "## 5. Reverse with a twist\n",
    "\n",
    "It is really easy in Python to reverse lists, compared to C++ where it is a mess of pointers. Your task is to write a function that takes a list as input and returns a list with groups of 3 items reversed.\n",
    "\n",
    "Note that the length will be a multiple of 3\n",
    "\n",
    "for example:\n",
    "\n",
    "                  reverse_3([1,2,3,4,5,6,7,8,9]) = [3,2,1,6,5,4,9,8,7]"
   ]
  },
  {
   "cell_type": "markdown",
   "metadata": {},
   "source": [
    "#### Method 1"
   ]
  },
  {
   "cell_type": "code",
   "execution_count": 18,
   "metadata": {
    "id": "d5PK0iJWVeUx"
   },
   "outputs": [
    {
     "data": {
      "text/plain": [
       "[3, 2, 1, 6, 5, 4, 9, 8, 7]"
      ]
     },
     "execution_count": 18,
     "metadata": {},
     "output_type": "execute_result"
    }
   ],
   "source": [
    "l = [1,2,3,4,5,6,7,8,9]\n",
    "def reverse_3(list_):\n",
    "    res = []\n",
    "    for i in range(0,len(list_),3):\n",
    "        res.extend(list_[i:i+3][::-1]) # or res = res + list_[i:i+3][::-1]\n",
    "    return res\n",
    "reverse_3(l)"
   ]
  },
  {
   "cell_type": "markdown",
   "metadata": {},
   "source": [
    "#### Method 2 (more algorithmic)"
   ]
  },
  {
   "cell_type": "code",
   "execution_count": 19,
   "metadata": {},
   "outputs": [
    {
     "data": {
      "text/plain": [
       "[3, 2, 1, 6, 5, 4, 9, 8, 7]"
      ]
     },
     "execution_count": 19,
     "metadata": {},
     "output_type": "execute_result"
    }
   ],
   "source": [
    "l = [1,2,3,4,5,6,7,8,9]\n",
    "def reverse_3(list_):\n",
    "    return [list_[2-(i%3)+3*(i//3)] for i in range(len(l))]\n",
    "reverse_3(l)"
   ]
  },
  {
   "cell_type": "markdown",
   "metadata": {
    "id": "4Y0qAOpk8cBD"
   },
   "source": [
    "---\n",
    "## 6. Occam's Blunt Razor\n",
    "We have recently come into contact with a civilization that prides themselves on being as convoluted as they can in their science. As such, the 4 basic operations on integers that they use (LHS) are translated to our regular operations (RHS) as following:\n",
    "\n",
    "$$x + y := x^y + y^x$$\n",
    "$$x - y := x^y - y^x$$\n",
    "$$x * y := \\tfrac{x^x}{y^y}$$\n",
    "$$x / y := \\tfrac{x+y}{xy}$$\n",
    "\n",
    "\n",
    "Your task is to implement a calculator that will be useful for this civilization, implementing their 4 basic operations. Write a function `calc` that takes a string as input and returns the integer.\n",
    "\n",
    "                In[1] : calc('10 + 2')\n",
    "                Out[1]: 1124\n"
   ]
  },
  {
   "cell_type": "code",
   "execution_count": 20,
   "metadata": {
    "id": "rgYhlObGEIsx"
   },
   "outputs": [],
   "source": [
    "# You may find it useful to define other functions as well\n",
    "def calc(operation):\n",
    "    x, op, y = operation.split()\n",
    "    x, y = int(x), int(y)\n",
    "    if op == \"+\":\n",
    "        return x**y + y**x\n",
    "    elif op == \"-\":\n",
    "        return x**y - y**x\n",
    "    elif op == \"*\":\n",
    "        return x**x / y**y\n",
    "    elif op == \"/\":\n",
    "        return (x+y)/(x*y)"
   ]
  },
  {
   "cell_type": "code",
   "execution_count": 21,
   "metadata": {},
   "outputs": [
    {
     "data": {
      "text/plain": [
       "1124"
      ]
     },
     "execution_count": 21,
     "metadata": {},
     "output_type": "execute_result"
    }
   ],
   "source": [
    "calc('10 + 2')"
   ]
  },
  {
   "cell_type": "markdown",
   "metadata": {},
   "source": [
    "#### Faster and Better Method\n",
    "(`lambda` functions will be covered in detail in Lecture 5)"
   ]
  },
  {
   "cell_type": "code",
   "execution_count": 22,
   "metadata": {},
   "outputs": [],
   "source": [
    "ops = {\"+\" : lambda x,y: x**y + y**x,\n",
    "       \"-\" : lambda x,y: x**y - y**x, \n",
    "       \"*\" : lambda x,y: x**x / y**y,\n",
    "       \"/\" : lambda x,y: (x+y)/(x*y)}"
   ]
  },
  {
   "cell_type": "code",
   "execution_count": 23,
   "metadata": {},
   "outputs": [],
   "source": [
    "# You may find it useful to define other functions as well\n",
    "def calc(operation, ops=ops):\n",
    "    x, op, y = operation.split()\n",
    "    x, y = int(x), int(y)\n",
    "    return ops[op](x,y)"
   ]
  },
  {
   "cell_type": "code",
   "execution_count": 24,
   "metadata": {},
   "outputs": [
    {
     "data": {
      "text/plain": [
       "1124"
      ]
     },
     "execution_count": 24,
     "metadata": {},
     "output_type": "execute_result"
    }
   ],
   "source": [
    "calc('10 + 2')"
   ]
  }
 ],
 "metadata": {
  "colab": {
   "collapsed_sections": [],
   "name": "Tut1WithSolns.ipynb",
   "provenance": []
  },
  "kernelspec": {
   "display_name": "Python 3",
   "language": "python",
   "name": "python3"
  },
  "language_info": {
   "codemirror_mode": {
    "name": "ipython",
    "version": 3
   },
   "file_extension": ".py",
   "mimetype": "text/x-python",
   "name": "python",
   "nbconvert_exporter": "python",
   "pygments_lexer": "ipython3",
   "version": "3.7.6"
  }
 },
 "nbformat": 4,
 "nbformat_minor": 1
}
