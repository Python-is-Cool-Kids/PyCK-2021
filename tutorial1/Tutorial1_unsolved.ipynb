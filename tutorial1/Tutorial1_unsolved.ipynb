{
 "cells": [
  {
   "cell_type": "markdown",
   "metadata": {
    "id": "1kzoWuuSwxXT"
   },
   "source": [
    "# Welcome to Tutorial 1!\n",
    "\n",
    "In this tutorial, we will try to make use of the basic concepts in Python taught during Week 1 and get comfortable with them!\n",
    "\n",
    "Let's get started!"
   ]
  },
  {
   "cell_type": "markdown",
   "metadata": {
    "id": "NtbUu2bxpwgQ"
   },
   "source": [
    "---\n",
    "## 1. The Invitation\n",
    "<!-- <b style='color:red'>Keywords: </b> String Manipulation, I/O, String Formatting -->\n",
    "\n",
    "The lead tutor for PyCK is facing trouble in sending a warm invite to all of the enthusiastic Pythonistas during onboarding.\n",
    "\n",
    "The names of the students are in a file named `participants.csv`, where the first column is the full name of the participant ('first_name last_name') and the second column is the email id. What you must do is print a string in the following format for each participant\n",
    "\n",
    "                                Hello <LAST_NAME>, <first_name>! Your username is <user_name>\n",
    "                                \n",
    "For example, for the first participant in the file, you will print: `Hello AGAL, Aryan! Your username is aryanagal20`.\n",
    "\n",
    "<b style='color:red'>Bonus: </b> Print the welcome text for each participant in alphabetical order by their last names\n",
    "\n",
    "<b style='color:red'>Note: </b> These are not our real email IDs. Please do not spam an innocent user."
   ]
  },
  {
   "cell_type": "code",
   "execution_count": null,
   "metadata": {
    "id": "RmUnquqWkobV"
   },
   "outputs": [],
   "source": [
    "# This is how you can read the contents of a file as a string\n",
    "with open(\"participants.csv\", \"r\") as f:\n",
    "    text = f.read()"
   ]
  },
  {
   "cell_type": "code",
   "execution_count": null,
   "metadata": {
    "id": "1H91mfrDburb"
   },
   "outputs": [],
   "source": [
    "print(text)"
   ]
  },
  {
   "cell_type": "code",
   "execution_count": null,
   "metadata": {
    "id": "0CjjsHv4rJLU"
   },
   "outputs": [],
   "source": [
    "def format_welcome(text):\n",
    "    ..."
   ]
  },
  {
   "cell_type": "markdown",
   "metadata": {
    "id": "VIh5f74jmypZ"
   },
   "source": [
    "---\n",
    "## 2. Overacheiving Freshers\n",
    "Given below are two lists containing IDs of students in a physics and chemistry lab. Find the IDs of all students attending both labs and the IDs of students attending only one lab.\n",
    "\n",
    "<b style='color:red'>Bonus: </b> If there are 50 students with IDs 1 to 50, then find the IDs of the students who are not attending either lab."
   ]
  },
  {
   "cell_type": "code",
   "execution_count": null,
   "metadata": {
    "id": "gu5ak7dAknD3"
   },
   "outputs": [],
   "source": [
    "id_phy = [3, 5, 6, 7, 8, 9, 11, 12, 16, 17, 18, 19, 21, 24, 25, 26, 28, 35, 38, 39, 40, 41, 42, 43, 47, 48, 50]\n",
    "id_chem = [1, 4, 5, 8, 9, 11, 16, 19, 21, 23, 24, 25, 27, 28, 29, 31, 32, 33, 36, 37, 38, 41, 43, 45, 47, 51]"
   ]
  },
  {
   "cell_type": "code",
   "execution_count": null,
   "metadata": {},
   "outputs": [],
   "source": [
    "def both_labs(id_phy, id_chem):\n",
    "    ...\n",
    "\n",
    "def only_phy_lab(id_phy, id_chem):\n",
    "    ...\n",
    "\n",
    "def only_chem_lab(id_phy, id_chem):\n",
    "    ...\n",
    "\n",
    "def neither(id_phy, id_chem):\n",
    "    ..."
   ]
  },
  {
   "cell_type": "markdown",
   "metadata": {
    "id": "d9cyvP7Oxnjq"
   },
   "source": [
    "---\n",
    "## 3. Your Digital Back of the Book Index\n",
    "Several books and (long) articles tend to have an index at the end, where you get a list of words and corresponding page numbers. When looking for a specific word, this is your best bet to find the related content quickly.\n",
    "\n",
    "Inverted indexing is an important concept used to store contents of documents, files etc in a format that makes searching through them easier. It is implemented by almost all search engines to improve your search experience. The idea is to store a mapping of each word with the index/filename of the document containing that word. \n",
    "\n",
    "In this problem statement, we will try to implement a simple inverted indexing scheme.\n",
    "\n",
    "The input will be a list of words, for example\n",
    "\n",
    "                     list_of_words = ['Hey', 'this', 'this', 'sample', 'Hey' ]\n",
    "\n",
    "Print a mapping between all unique words and the list of indices at which they occur in the input list like\n",
    "\n",
    "                Hey : [0, 4] \n",
    "                this : [1, 2]\n",
    "                sample : [3]\n",
    "\n",
    "\n"
   ]
  },
  {
   "cell_type": "code",
   "execution_count": null,
   "metadata": {
    "id": "31QnEDtV5obK"
   },
   "outputs": [],
   "source": [
    "# Complete the program below\n",
    "def make_index(list_):\n",
    "    \"\"\"Return the indices of each element given a list `list_`\"\"\"\n",
    "    ...\n",
    "    print(\"\")"
   ]
  },
  {
   "cell_type": "code",
   "execution_count": null,
   "metadata": {
    "id": "TAX6OhQPNqvZ"
   },
   "outputs": [],
   "source": [
    "input_list = [ 'Index' , 'Match' , 'Google' , 'PageRank' , 'Index' , 'Google' , 'Algorithm' , 'Google' , 'Algorithm']"
   ]
  },
  {
   "cell_type": "code",
   "execution_count": null,
   "metadata": {
    "id": "TAX6OhQPNqvZ"
   },
   "outputs": [],
   "source": [
    "make_index(input_list)"
   ]
  },
  {
   "cell_type": "markdown",
   "metadata": {
    "id": "Dw04ZBO3Sk4o"
   },
   "source": [
    "---\n",
    "## 4. COVID-20?\n",
    "\n",
    "*This question was made last year under [WnCC's Learner's Space](https://github.com/wncc/learners-space/blob/master/Python/Week%201/Week1-Assignment.ipynb) program. While we are sad about the fact that we still have to follow the social distaning norms, it sure is a good question for you all to try!*\n",
    "\n",
    "---\n",
    "\n",
    "Due to the COVID-19 pandemic, people have been advised to stay at least 6 feet away from any other person. Your job is to check whether people queueing up outside a shop are following social distancing norms.\n",
    "\n",
    "There are a total of N spots (1 through N) where people can stand in front of the local shop. The distance between each pair of adjacent spots is 1 foot. Each spot may be either empty or occupied.\n",
    "\n",
    "You are given a sequence (A1, A2, …, AN), where for each valid i, Ai=0 means that the i-th spot is empty, while Ai=1 means that there is a person standing at this spot. It is guaranteed that the queue is not completely empty.\n",
    "\n",
    "For example, if N=11 and the sequence A is `(0,1,0,0,0,0,0,1,0,0,1)`, then in this queue, people are not following social distancing, since there are two people at a distance of just 3 feet from each other.\n",
    "\n",
    "Write a function that takes a single argument: the input queue, in the form of a dictionary where each spot (from 1 to some N) has a value (0 or 1)\n",
    "\n",
    "The above sequence would be:\n",
    "\n",
    "        {'1' : 0, '2' : 1, '3' : 0, '4' : 0, '5' : 0,\n",
    "         '6' : 0, '7' : 0, '8' : 1, '9' : 0, '10' : 0, '11' : 1}\n",
    "\n",
    "For each test case, print `Yes` if social distancing is being followed or `No` otherwise."
   ]
  },
  {
   "cell_type": "code",
   "execution_count": null,
   "metadata": {
    "id": "xYm-eKoqTNn9"
   },
   "outputs": [],
   "source": [
    "# Complete the program below\n",
    "def social_dist(queue):\n",
    "    ...\n",
    "    print(\"\")"
   ]
  },
  {
   "cell_type": "code",
   "execution_count": null,
   "metadata": {
    "id": "9KYhWGyOTSFo"
   },
   "outputs": [],
   "source": [
    "#do not change this code\n",
    "queue1 = {'1':1, '2':0, '3':0, '4':0, '5':1}\n",
    "social_dist(queue1)\n",
    "\n",
    "queue2 = {'1':0, '2':0, '3':1, '4':0, '5':0, '6':0, '7':0, '8':0, '9':1, '10':0}\n",
    "social_dist(queue2)"
   ]
  },
  {
   "cell_type": "markdown",
   "metadata": {
    "id": "479uVn9YTUPG"
   },
   "source": [
    "Expected output:\n",
    "\n",
    "        No\n",
    "        Yes"
   ]
  },
  {
   "cell_type": "markdown",
   "metadata": {
    "id": "D0n1pvdRUNv4"
   },
   "source": [
    "---\n",
    "## 5. Reverse with a twist\n",
    "\n",
    "It is really easy in Python to reverse lists, compared to C++ where it is a mess of pointers. Your task is to write a function that takes a list as input and returns a list with groups of 3 items reversed.\n",
    "\n",
    "Note that the length will be a multiple of 3\n",
    "\n",
    "for example:\n",
    "\n",
    "                  reverse_3([1,2,3,4,5,6,7,8,9]) = [3,2,1,6,5,4,9,8,7]"
   ]
  },
  {
   "cell_type": "code",
   "execution_count": null,
   "metadata": {
    "id": "d5PK0iJWVeUx"
   },
   "outputs": [],
   "source": [
    "l = [1,2,3,4,5,6,7,8,9]\n",
    "def reverse_3(list_):\n",
    "    ...\n",
    "    return ..."
   ]
  },
  {
   "cell_type": "markdown",
   "metadata": {
    "id": "4Y0qAOpk8cBD"
   },
   "source": [
    "---\n",
    "## 6. Occam's Blunt Razor\n",
    "We have recently come into contact with a civilization that prides themselves on being as convoluted as they can in their science. As such, the 4 basic operations on integers that they use (LHS) are translated to our regular operations (RHS) as following:\n",
    "\n",
    "$$x + y := x^y + y^x$$\n",
    "$$x - y := x^y - y^x$$\n",
    "$$x * y := \\tfrac{x^x}{y^y}$$\n",
    "$$x / y := \\tfrac{x+y}{xy}$$\n",
    "\n",
    "\n",
    "Your task is to implement a calculator that will be useful for this civilization, implementing their 4 basic operations. Write a function `calc` that takes a string as input and returns the integer.\n",
    "\n",
    "                In[1] : calc('10 + 2')\n",
    "                Out[1]: 1124\n"
   ]
  },
  {
   "cell_type": "code",
   "execution_count": null,
   "metadata": {
    "id": "rgYhlObGEIsx"
   },
   "outputs": [],
   "source": [
    "# You may find it useful to define other functions as well\n",
    "def calc(operation):\n",
    "    return(...)"
   ]
  }
 ],
 "metadata": {
  "colab": {
   "collapsed_sections": [],
   "name": "Tut1WithSolns.ipynb",
   "provenance": []
  },
  "kernelspec": {
   "display_name": "Python 3",
   "language": "python",
   "name": "python3"
  },
  "language_info": {
   "codemirror_mode": {
    "name": "ipython",
    "version": 3
   },
   "file_extension": ".py",
   "mimetype": "text/x-python",
   "name": "python",
   "nbconvert_exporter": "python",
   "pygments_lexer": "ipython3",
   "version": "3.8.5"
  }
 },
 "nbformat": 4,
 "nbformat_minor": 1
}
